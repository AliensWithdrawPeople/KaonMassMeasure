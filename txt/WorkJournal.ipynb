{
 "cells": [
  {
   "attachments": {},
   "cell_type": "markdown",
   "metadata": {},
   "source": [
    "# **2023**"
   ]
  },
  {
   "attachments": {},
   "cell_type": "markdown",
   "metadata": {},
   "source": [
    "## ***Jun 8 2023***"
   ]
  },
  {
   "attachments": {},
   "cell_type": "markdown",
   "metadata": {},
   "source": [
    "Энергия Kch для одного захода без точки пучка в фите и с ней:\n",
    "<div>\n",
    "<img src=\"PictureDump/KchEnergy_NoBeamPoint_run61683.png\" alt=\"Drawing\" style=\"width: 550px;\"/>\n",
    "<img src=\"PictureDump/KchEnergy_WithBeamPoint_run61683.png\" alt=\"Drawing\" style=\"width: 550px;\"/>\n",
    "</div>\n",
    "\n",
    "Импульс Kch для одного захода без точки пучка в фите и с ней:\n",
    "<div>\n",
    "<img src=\"PictureDump/KchMom_NoBeamPoint_run61683.png\" alt=\"Drawing\" style=\"width: 550px;\"/>\n",
    "<img src=\"PictureDump/KchMom_WithBeamPoint_run61683.png\" alt=\"Drawing\" style=\"width: 550px;\"/>\n",
    "</div>"
   ]
  },
  {
   "attachments": {},
   "cell_type": "markdown",
   "metadata": {},
   "source": [
    "## ***Jun 9 2023***"
   ]
  },
  {
   "attachments": {},
   "cell_type": "markdown",
   "metadata": {},
   "source": [
    "MC KsKl with shifted up by 30 keV energy (aka WrongEnergy) Mass:\n",
    "<div>\n",
    "<img src=\"PictureDump/KsMass_WrongEnergy.png\" alt=\"Drawing\" style=\"width: 700px;\"/>\n",
    "</div>"
   ]
  },
  {
   "cell_type": "code",
   "execution_count": 11,
   "metadata": {},
   "outputs": [
    {
     "name": "stdout",
     "output_type": "stream",
     "text": [
      "M_fit = 497.584 MeV\n"
     ]
    }
   ],
   "source": [
    "import matplotlib.pyplot as plt\n",
    "import numpy as np\n",
    "from scipy.optimize import curve_fit\n",
    "\n",
    "E = np.array([508.5, 509, 509.5, 510, 510.5, 511])\n",
    "M_RCNC = np.array([497.575, 497.582, 497.588, 497.588, 497.588, 497.593])\n",
    "M_RCNC_err = np.array([0.002, 0.002, 0.003, 0.003, 0.003, 0.003])\n",
    "\n",
    "M_fit = curve_fit(lambda x, a: a, E, M_RCNC, sigma=M_RCNC_err)\n",
    "print('M_fit =', np.round(M_fit[0][0], 3), 'MeV')\n",
    "\n",
    "# plt.errorbar(x=E, y=M_RCNC, yerr=M_RCNC_err, fmt='.')\n",
    "# plt.show()\n"
   ]
  },
  {
   "attachments": {},
   "cell_type": "markdown",
   "metadata": {},
   "source": [
    "## ***Jun 10 2023***"
   ]
  },
  {
   "attachments": {},
   "cell_type": "markdown",
   "metadata": {},
   "source": [
    "Energy control via $K^{\\pm}$ without beam point:"
   ]
  },
  {
   "cell_type": "code",
   "execution_count": null,
   "metadata": {},
   "outputs": [],
   "source": [
    "energy_points = np.array([510])\n",
    "E_Kch_exp = np.array([])\n",
    "E_Kch_exp_Err = np.array([])\n",
    "\n",
    "emeas_MC = np.array([509.95])\n",
    "emeas_MC_err = np.array([0.007])\n",
    "E_Kch_MC = np.array([506.249])\n",
    "E_Kch_MC_Err = np.array([0.005])\n"
   ]
  },
  {
   "attachments": {},
   "cell_type": "markdown",
   "metadata": {},
   "source": [
    "## ***Jun 13 2023***"
   ]
  },
  {
   "attachments": {},
   "cell_type": "markdown",
   "metadata": {},
   "source": [
    "$\\Delta E$ data - MC with and without beam point:\n",
    "<div>\n",
    "<img src=\"PictureDump/deltaE_dataMC_diff_withBeamPoint.png\" alt=\"Drawing\" style=\"width: 550px;\"/>\n",
    "<img src=\"PictureDump/deltaE_dataMC_diff_noBeamPoint.png\" alt=\"Drawing\" style=\"width: 550px;\"/>\n",
    "</div>"
   ]
  },
  {
   "attachments": {},
   "cell_type": "markdown",
   "metadata": {},
   "source": [
    "## ***Jun 14***"
   ]
  },
  {
   "attachments": {},
   "cell_type": "markdown",
   "metadata": {},
   "source": [
    "ISR radiative correction pretty much has no difference with or without energy spread. Previous RC is still good."
   ]
  },
  {
   "cell_type": "code",
   "execution_count": null,
   "metadata": {},
   "outputs": [],
   "source": [
    "import numpy as np\n",
    "\n",
    "energies = np.array([508, 508.5, 510])\n",
    "RC_MC = np.array([0.082, 0.078, 0.106])\n",
    "RC_smeared_MC = np.array([0.084, 0.078, 0.110])\n"
   ]
  },
  {
   "attachments": {},
   "cell_type": "markdown",
   "metadata": {},
   "source": [
    "I've started working on PhiMesonFit. \n",
    "There are some params for $e^+ e^- \\rightarrow \\phi \\rightarrow K_S K_L$ for RHO2018 season."
   ]
  },
  {
   "cell_type": "code",
   "execution_count": null,
   "metadata": {},
   "outputs": [],
   "source": [
    "import numpy as np\n",
    "\n",
    "points = [\"505\", \"508\", \"508.5\", \"509\", \"509.5\", \"510\", \"510.5\", \"511\", \"514\"]\n",
    "efficiency = np.array([0.130427, 0.13764, 0.138855, 0.140421,\n",
    "                      0.143378, 0.142905, 0.142406, 0.145685, 0.146109])\n",
    "lumi = np.array([454.856, 548.972, 1395.09, 979.506,\n",
    "                2621.62, 2041.31, 1053.46, 780.307, 520.924])\n",
    "mean_energies = [504.8, 507.862, 508.404, 508.957,\n",
    "                 509.528, 509.956, 510.458, 511.035, 513.864]\n"
   ]
  }
 ],
 "metadata": {
  "kernelspec": {
   "display_name": "base",
   "language": "python",
   "name": "python3"
  },
  "language_info": {
   "codemirror_mode": {
    "name": "ipython",
    "version": 3
   },
   "file_extension": ".py",
   "mimetype": "text/x-python",
   "name": "python",
   "nbconvert_exporter": "python",
   "pygments_lexer": "ipython3",
   "version": "3.9.12"
  },
  "orig_nbformat": 4
 },
 "nbformat": 4,
 "nbformat_minor": 2
}
