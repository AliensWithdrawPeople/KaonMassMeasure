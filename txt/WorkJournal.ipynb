{
 "cells": [
  {
   "attachments": {},
   "cell_type": "markdown",
   "metadata": {},
   "source": [
    "# **2023**"
   ]
  },
  {
   "attachments": {},
   "cell_type": "markdown",
   "metadata": {},
   "source": [
    "## ***Jun 8 2023***"
   ]
  },
  {
   "attachments": {},
   "cell_type": "markdown",
   "metadata": {},
   "source": [
    "Энергия Kch для одного захода без точки пучка в фите и с ней:\n",
    "<div>\n",
    "<img src=\"PictureDump/KchEnergy_NoBeamPoint_run61683.png\" alt=\"Drawing\" style=\"width: 550px;\"/>\n",
    "<img src=\"PictureDump/KchEnergy_WithBeamPoint_run61683.png\" alt=\"Drawing\" style=\"width: 550px;\"/>\n",
    "</div>\n",
    "\n",
    "Импульс Kch для одного захода без точки пучка в фите и с ней:\n",
    "<div>\n",
    "<img src=\"PictureDump/KchMom_NoBeamPoint_run61683.png\" alt=\"Drawing\" style=\"width: 550px;\"/>\n",
    "<img src=\"PictureDump/KchMom_WithBeamPoint_run61683.png\" alt=\"Drawing\" style=\"width: 550px;\"/>\n",
    "</div>"
   ]
  },
  {
   "attachments": {},
   "cell_type": "markdown",
   "metadata": {},
   "source": [
    "## ***Jun 9 2023***"
   ]
  },
  {
   "attachments": {},
   "cell_type": "markdown",
   "metadata": {},
   "source": [
    "MC KsKl with shifted up by 30 keV energy (aka WrongEnergy) Mass:\n",
    "<div>\n",
    "<img src=\"PictureDump/KsMass_WrongEnergy.png\" alt=\"Drawing\" style=\"width: 700px;\"/>\n",
    "</div>"
   ]
  },
  {
   "cell_type": "code",
   "execution_count": 11,
   "metadata": {},
   "outputs": [
    {
     "name": "stdout",
     "output_type": "stream",
     "text": [
      "M_fit = 497.584 MeV\n"
     ]
    }
   ],
   "source": [
    "import matplotlib.pyplot as plt\n",
    "import numpy as np\n",
    "from scipy.optimize import curve_fit\n",
    "\n",
    "E = np.array([508.5, 509, 509.5, 510, 510.5, 511])\n",
    "M_RCNC = np.array([497.575, 497.582, 497.588, 497.588, 497.588, 497.593])\n",
    "M_RCNC_err = np.array([0.002, 0.002, 0.003, 0.003, 0.003, 0.003])\n",
    "\n",
    "M_fit = curve_fit(lambda x, a: a, E, M_RCNC, sigma=M_RCNC_err)\n",
    "print(\"M_fit =\", np.round(M_fit[0][0], 3), \"MeV\")\n",
    "\n",
    "# plt.errorbar(x=E, y=M_RCNC, yerr=M_RCNC_err, fmt='.')\n",
    "# plt.show()"
   ]
  },
  {
   "attachments": {},
   "cell_type": "markdown",
   "metadata": {},
   "source": [
    "## ***Jun 10 2023***"
   ]
  },
  {
   "attachments": {},
   "cell_type": "markdown",
   "metadata": {},
   "source": [
    "Energy control via $K^{\\pm}$ without beam point:"
   ]
  },
  {
   "cell_type": "code",
   "execution_count": null,
   "metadata": {},
   "outputs": [],
   "source": [
    "energy_points = np.array([510])\n",
    "E_Kch_exp = np.array([])\n",
    "E_Kch_exp_Err = np.array([])\n",
    "\n",
    "emeas_MC = np.array([509.95])\n",
    "emeas_MC_err = np.array([0.007])\n",
    "E_Kch_MC = np.array([506.249])\n",
    "E_Kch_MC_Err = np.array([0.005])"
   ]
  },
  {
   "attachments": {},
   "cell_type": "markdown",
   "metadata": {},
   "source": [
    "## ***Jun 13 2023***"
   ]
  },
  {
   "attachments": {},
   "cell_type": "markdown",
   "metadata": {},
   "source": [
    "$\\Delta E$ data - MC with and without beam point:\n",
    "<div>\n",
    "<img src=\"PictureDump/deltaE_dataMC_diff_withBeamPoint.png\" alt=\"Drawing\" style=\"width: 550px;\"/>\n",
    "<img src=\"PictureDump/deltaE_dataMC_diff_noBeamPoint.png\" alt=\"Drawing\" style=\"width: 550px;\"/>\n",
    "</div>"
   ]
  },
  {
   "attachments": {},
   "cell_type": "markdown",
   "metadata": {},
   "source": [
    "## ***Jun 14***"
   ]
  },
  {
   "attachments": {},
   "cell_type": "markdown",
   "metadata": {},
   "source": [
    "ISR radiative correction pretty much has no difference with or without energy spread. Previous RC is still good."
   ]
  },
  {
   "cell_type": "code",
   "execution_count": 2,
   "metadata": {},
   "outputs": [
    {
     "name": "stdout",
     "output_type": "stream",
     "text": [
      "[497.677, 497.667, 497.622, 497.634, 497.615, 497.686, 497.78, 497.902, 499.057]\n"
     ]
    }
   ],
   "source": [
    "import numpy as np\n",
    "\n",
    "energies = np.array([508, 508.5, 510])\n",
    "RC_MC = np.array([0.082, 0.078, 0.106])\n",
    "RC_smeared_MC = np.array([0.084, 0.078, 0.110])\n",
    "\n",
    "m = np.array(\n",
    "    [497.577, 497.568, 497.533, 497.554, 497.544, 497.57, 497.589, 497.568, 497.604]\n",
    ")\n",
    "RC = np.array([0.1, 0.099, 0.089, 0.08, 0.071, 0.116, 0.191, 0.334, 1.453])\n",
    "print(list(np.round(m + RC, 3)))"
   ]
  },
  {
   "attachments": {},
   "cell_type": "markdown",
   "metadata": {},
   "source": [
    "I've started working on PhiMesonFit. \n",
    "There are some params for $e^+ e^- \\rightarrow \\phi \\rightarrow K_S K_L$ for RHO2018 season."
   ]
  },
  {
   "attachments": {},
   "cell_type": "markdown",
   "metadata": {},
   "source": [
    "## ***Jun 19***"
   ]
  },
  {
   "attachments": {},
   "cell_type": "markdown",
   "metadata": {},
   "source": [
    "Trying to *guess* the $\\Delta E$ by minimizing spread (relative to mean value) of $M_{vis}(E) - \\Delta M_{RC}(E + \\Delta E)$:\n",
    "\n",
    "We think $\\Delta E = 96$ keV"
   ]
  },
  {
   "cell_type": "code",
   "execution_count": 6,
   "metadata": {},
   "outputs": [
    {
     "name": "stdout",
     "output_type": "stream",
     "text": [
      "$\\Delta E=$ 0.096 +/- 0.033 MeV\n",
      "M_fit = 497.55 +/- 0.004 MeV\n",
      "M_new = [497.575, 497.57, 497.534, 497.557, 497.538, 497.557, 497.569, 497.541, 497.555]\n"
     ]
    }
   ],
   "source": [
    "import numpy as np\n",
    "from matplotlib import pyplot as ppt\n",
    "\n",
    "import sys\n",
    "sys.path.append('C:\\\\work\\\\Science\\\\BINP\\\\Kaon Mass Measure')\n",
    "from AuxScripts.EnergyShift import Shift\n",
    "\n",
    "    \n",
    "M_RCNC = np.array([497.577, 497.568, 497.533, 497.554, 497.544, 497.57, 497.589, 497.568, 497.604])\n",
    "err_M = np.array([0.036, 0.014, 0.011, 0.008, 0.007, 0.01, 0.013, 0.014, 0.029])\n",
    "# err_M = np.array([0.028, 0.01, 0.004, 0.004, 0.002, 0.002, 0.004, 0.007, 0.027])\n",
    "RC_data = np.array([0.1, 0.099, 0.089, 0.08, 0.071, 0.116, 0.191, 0.334, 1.453])\n",
    "E = np.array([504.8, 507.862, 508.404, 508.957, 509.528, 509.956, 510.458, 511.035, 513.864])\n",
    "M_vis = np.round(M_RCNC + RC_data, 3)\n",
    "\n",
    "shift = Shift(M_vis, err_M, RC_data, E)\n",
    "\n",
    "deltaE, deltaE_err = shift.Get_Shift()\n",
    "print(\"$\\Delta E=$\", deltaE, \"+/-\", deltaE_err, \"MeV\")\n",
    "\n",
    "M_fit, err = shift.Get_Mass_fit()\n",
    "print(\"M_fit =\", M_fit, \"+/-\", err, \"MeV\")\n",
    "print(\"M_new =\", list(shift.Get_corrected_mass()))"
   ]
  },
  {
   "attachments": {},
   "cell_type": "markdown",
   "metadata": {},
   "source": [
    "## ***Jun 20***"
   ]
  },
  {
   "cell_type": "code",
   "execution_count": 46,
   "metadata": {},
   "outputs": [
    {
     "name": "stdout",
     "output_type": "stream",
     "text": [
      "M_RCNC = [497.664, 497.642, 497.618, 497.63, 497.634, 497.647, 497.644, 497.619, 497.645]\n",
      "M_RCNC_fit = 497.634 +/- 0.003 MeV\n"
     ]
    }
   ],
   "source": [
    "import numpy as np\n",
    "\n",
    "M_vis = np.array([497.766, 497.739, 497.706, 497.707, 497.711, 497.776, 497.855, 497.981, 499.148])\n",
    "M_RCNC = np.round(M_vis - Get_RC(E + delta_E), 3)\n",
    "print(\"M_RCNC =\", list(M_RCNC))\n",
    "\n",
    "M_fit, err = opt.curve_fit(lambda x, a: a, E, M_RCNC, sigma=err_M)\n",
    "print(\"M_RCNC_fit =\", np.round(M_fit[0], 3), \"+/-\", np.round(np.sqrt(np.diag(err))[0], 3), \"MeV\")"
   ]
  },
  {
   "attachments": {},
   "cell_type": "markdown",
   "metadata": {},
   "source": [
    "I splined ISR correction (Get_RC function) and fitted the function* to a M_vis data. \n",
    "So $\\Delta E = 0.096 \\pm 0.033$ MeV was obtained. \n",
    "\n",
    "*: M(E| $M_{mean}$, $\\Delta E$) = $M_{mean}$ + Get_RC(E + $\\Delta E$)\n",
    "\n",
    "$M_{vis}$ (black), $\\Delta M_{RC} + 497.550$ (blue) vs $E^{(mean)}_{compton}$\n",
    "<div>\n",
    "<img src=\"PictureDump/Mvis_RC.png\" alt=\"Drawing\" style=\"width: 850px;\"/>\n",
    "</div>"
   ]
  },
  {
   "attachments": {},
   "cell_type": "markdown",
   "metadata": {},
   "source": [
    "After 96 kev energy shift and applying corresponding ISR corrections: \n",
    "\n",
    "<div>\n",
    "<img src=\"PictureDump/KsMassExp_CorrectedEnergy.png\" alt=\"Drawing\" style=\"width: 850px;\"/>\n",
    "</div>"
   ]
  }
 ],
 "metadata": {
  "kernelspec": {
   "display_name": "base",
   "language": "python",
   "name": "python3"
  },
  "language_info": {
   "codemirror_mode": {
    "name": "ipython",
    "version": 3
   },
   "file_extension": ".py",
   "mimetype": "text/x-python",
   "name": "python",
   "nbconvert_exporter": "python",
   "pygments_lexer": "ipython3",
   "version": "3.11.2"
  },
  "orig_nbformat": 4
 },
 "nbformat": 4,
 "nbformat_minor": 2
}
