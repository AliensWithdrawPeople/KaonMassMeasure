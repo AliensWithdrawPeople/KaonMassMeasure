{
 "cells": [
  {
   "attachments": {},
   "cell_type": "markdown",
   "metadata": {},
   "source": [
    "## ***Jun 8 2023***"
   ]
  },
  {
   "attachments": {},
   "cell_type": "markdown",
   "metadata": {},
   "source": [
    "Энергия Kch для одного захода без точки пучка в фите и с ней:\n",
    "<div>\n",
    "<img src=\"PictureDump/KchEnergy_NoBeamPoint_run61683.png\" alt=\"Drawing\" style=\"width: 550px;\"/>\n",
    "<img src=\"PictureDump/KchEnergy_WithBeamPoint_run61683.png\" alt=\"Drawing\" style=\"width: 550px;\"/>\n",
    "</div>\n",
    "\n",
    "Импульс Kch для одного захода без точки пучка в фите и с ней:\n",
    "<div>\n",
    "<img src=\"PictureDump/KchMom_NoBeamPoint_run61683.png\" alt=\"Drawing\" style=\"width: 550px;\"/>\n",
    "<img src=\"PictureDump/KchMom_WithBeamPoint_run61683.png\" alt=\"Drawing\" style=\"width: 550px;\"/>\n",
    "</div>"
   ]
  },
  {
   "attachments": {},
   "cell_type": "markdown",
   "metadata": {},
   "source": [
    "## ***Jun 9 2023***"
   ]
  },
  {
   "attachments": {},
   "cell_type": "markdown",
   "metadata": {},
   "source": [
    "MC KsKl with shifted up by 30 keV energy (aka WrongEnergy) Mass:\n",
    "<div>\n",
    "<img src=\"PictureDump/KsMass_WrongEnergy.png\" alt=\"Drawing\" style=\"width: 700px;\"/>\n",
    "</div>"
   ]
  },
  {
   "cell_type": "code",
   "execution_count": 11,
   "metadata": {},
   "outputs": [
    {
     "name": "stdout",
     "output_type": "stream",
     "text": [
      "M_fit = 497.584 MeV\n"
     ]
    }
   ],
   "source": [
    "import matplotlib.pyplot as plt\n",
    "import numpy as np\n",
    "from scipy.optimize import curve_fit\n",
    "\n",
    "E = np.array([508.5, 509, 509.5, 510, 510.5, 511])\n",
    "M_RCNC = np.array([497.575, 497.582, 497.588, 497.588, 497.588, 497.593])\n",
    "M_RCNC_err = np.array([0.002, 0.002, 0.003, 0.003, 0.003, 0.003])\n",
    "\n",
    "M_fit = curve_fit(lambda x, a: a, E, M_RCNC, sigma=M_RCNC_err)\n",
    "print('M_fit =', np.round(M_fit[0][0], 3), 'MeV')\n",
    "\n",
    "# plt.errorbar(x=E, y=M_RCNC, yerr=M_RCNC_err, fmt='.')\n",
    "# plt.show()\n"
   ]
  },
  {
   "attachments": {},
   "cell_type": "markdown",
   "metadata": {},
   "source": [
    "# ***Jun 10 2023***"
   ]
  },
  {
   "attachments": {},
   "cell_type": "markdown",
   "metadata": {},
   "source": [
    "Energy control via $K^{\\pm}$ without beam point:"
   ]
  },
  {
   "cell_type": "code",
   "execution_count": null,
   "metadata": {},
   "outputs": [],
   "source": [
    "energy_points = np.array([510])\n",
    "E_Kch_exp = np.array([])\n",
    "E_Kch_exp_Err = np.array([])\n",
    "\n",
    "emeas_MC = np.array([509.95])\n",
    "emeas_MC_err = np.array([0.007])\n",
    "E_Kch_MC = np.array([506.249])\n",
    "E_Kch_MC_Err = np.array([0.005])\n"
   ]
  },
  {
   "attachments": {},
   "cell_type": "markdown",
   "metadata": {},
   "source": [
    "# ***Jun 13 2023***"
   ]
  },
  {
   "attachments": {},
   "cell_type": "markdown",
   "metadata": {},
   "source": [
    "$\\Delta E$ data - MC with and without beam point:\n",
    "<div>\n",
    "<img src=\"PictureDump/deltaE_dataMC_diff_withBeamPoint.png\" alt=\"Drawing\" style=\"width: 550px;\"/>\n",
    "<img src=\"PictureDump/deltaE_dataMC_diff_noBeamPoint.png\" alt=\"Drawing\" style=\"width: 550px;\"/>\n",
    "</div>"
   ]
  }
 ],
 "metadata": {
  "kernelspec": {
   "display_name": "base",
   "language": "python",
   "name": "python3"
  },
  "language_info": {
   "codemirror_mode": {
    "name": "ipython",
    "version": 3
   },
   "file_extension": ".py",
   "mimetype": "text/x-python",
   "name": "python",
   "nbconvert_exporter": "python",
   "pygments_lexer": "ipython3",
   "version": "3.9.12"
  },
  "orig_nbformat": 4
 },
 "nbformat": 4,
 "nbformat_minor": 2
}
