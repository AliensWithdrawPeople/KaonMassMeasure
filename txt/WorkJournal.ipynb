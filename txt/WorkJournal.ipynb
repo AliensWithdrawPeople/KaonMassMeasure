{
 "cells": [
  {
   "attachments": {},
   "cell_type": "markdown",
   "metadata": {},
   "source": [
    "# **2023**"
   ]
  },
  {
   "attachments": {},
   "cell_type": "markdown",
   "metadata": {},
   "source": [
    "## ***Jun 8 2023***"
   ]
  },
  {
   "attachments": {},
   "cell_type": "markdown",
   "metadata": {},
   "source": [
    "Энергия Kch для одного захода без точки пучка в фите и с ней:\n",
    "<div>\n",
    "<img src=\"PictureDump/KchEnergy_NoBeamPoint_run61683.png\" alt=\"Drawing\" style=\"width: 550px;\"/>\n",
    "<img src=\"PictureDump/KchEnergy_WithBeamPoint_run61683.png\" alt=\"Drawing\" style=\"width: 550px;\"/>\n",
    "</div>\n",
    "\n",
    "Импульс Kch для одного захода без точки пучка в фите и с ней:\n",
    "<div>\n",
    "<img src=\"PictureDump/KchMom_NoBeamPoint_run61683.png\" alt=\"Drawing\" style=\"width: 550px;\"/>\n",
    "<img src=\"PictureDump/KchMom_WithBeamPoint_run61683.png\" alt=\"Drawing\" style=\"width: 550px;\"/>\n",
    "</div>"
   ]
  },
  {
   "attachments": {},
   "cell_type": "markdown",
   "metadata": {},
   "source": [
    "## ***Jun 9 2023***"
   ]
  },
  {
   "attachments": {},
   "cell_type": "markdown",
   "metadata": {},
   "source": [
    "MC KsKl with shifted up by 30 keV energy (aka WrongEnergy) Mass:\n",
    "<div>\n",
    "<img src=\"PictureDump/KsMass_WrongEnergy.png\" alt=\"Drawing\" style=\"width: 700px;\"/>\n",
    "</div>"
   ]
  },
  {
   "cell_type": "code",
   "execution_count": 11,
   "metadata": {},
   "outputs": [
    {
     "name": "stdout",
     "output_type": "stream",
     "text": [
      "M_fit = 497.584 MeV\n"
     ]
    }
   ],
   "source": [
    "import matplotlib.pyplot as plt\n",
    "import numpy as np\n",
    "from scipy.optimize import curve_fit\n",
    "\n",
    "E = np.array([508.5, 509, 509.5, 510, 510.5, 511])\n",
    "M_RCNC = np.array([497.575, 497.582, 497.588, 497.588, 497.588, 497.593])\n",
    "M_RCNC_err = np.array([0.002, 0.002, 0.003, 0.003, 0.003, 0.003])\n",
    "\n",
    "M_fit = curve_fit(lambda x, a: a, E, M_RCNC, sigma=M_RCNC_err)\n",
    "print('M_fit =', np.round(M_fit[0][0], 3), 'MeV')\n",
    "\n",
    "# plt.errorbar(x=E, y=M_RCNC, yerr=M_RCNC_err, fmt='.')\n",
    "# plt.show()\n"
   ]
  },
  {
   "attachments": {},
   "cell_type": "markdown",
   "metadata": {},
   "source": [
    "## ***Jun 10 2023***"
   ]
  },
  {
   "attachments": {},
   "cell_type": "markdown",
   "metadata": {},
   "source": [
    "Energy control via $K^{\\pm}$ without beam point:"
   ]
  },
  {
   "cell_type": "code",
   "execution_count": null,
   "metadata": {},
   "outputs": [],
   "source": [
    "energy_points = np.array([510])\n",
    "E_Kch_exp = np.array([])\n",
    "E_Kch_exp_Err = np.array([])\n",
    "\n",
    "emeas_MC = np.array([509.95])\n",
    "emeas_MC_err = np.array([0.007])\n",
    "E_Kch_MC = np.array([506.249])\n",
    "E_Kch_MC_Err = np.array([0.005])\n"
   ]
  },
  {
   "attachments": {},
   "cell_type": "markdown",
   "metadata": {},
   "source": [
    "## ***Jun 13 2023***"
   ]
  },
  {
   "attachments": {},
   "cell_type": "markdown",
   "metadata": {},
   "source": [
    "$\\Delta E$ data - MC with and without beam point:\n",
    "<div>\n",
    "<img src=\"PictureDump/deltaE_dataMC_diff_withBeamPoint.png\" alt=\"Drawing\" style=\"width: 550px;\"/>\n",
    "<img src=\"PictureDump/deltaE_dataMC_diff_noBeamPoint.png\" alt=\"Drawing\" style=\"width: 550px;\"/>\n",
    "</div>"
   ]
  },
  {
   "attachments": {},
   "cell_type": "markdown",
   "metadata": {},
   "source": [
    "## ***Jun 14***"
   ]
  },
  {
   "attachments": {},
   "cell_type": "markdown",
   "metadata": {},
   "source": [
    "ISR radiative correction pretty much has no difference with or without energy spread. Previous RC is still good."
   ]
  },
  {
   "cell_type": "code",
   "execution_count": 2,
   "metadata": {},
   "outputs": [
    {
     "name": "stdout",
     "output_type": "stream",
     "text": [
      "[497.677, 497.667, 497.622, 497.634, 497.615, 497.686, 497.78, 497.902, 499.057]\n"
     ]
    }
   ],
   "source": [
    "import numpy as np\n",
    "\n",
    "energies = np.array([508, 508.5, 510])\n",
    "RC_MC = np.array([0.082, 0.078, 0.106])\n",
    "RC_smeared_MC = np.array([0.084, 0.078, 0.110])\n",
    "\n",
    "m = np.array([497.577, 497.568, 497.533, 497.554, 497.544, 497.57, 497.589, 497.568, 497.604])\n",
    "RC = np.array([0.1, 0.099, 0.089, 0.08, 0.071, 0.116, 0.191, 0.334, 1.453])\n",
    "print(list(np.round(m + RC, 3)))\n"
   ]
  },
  {
   "attachments": {},
   "cell_type": "markdown",
   "metadata": {},
   "source": [
    "I've started working on PhiMesonFit. \n",
    "There are some params for $e^+ e^- \\rightarrow \\phi \\rightarrow K_S K_L$ for RHO2018 season."
   ]
  },
  {
   "attachments": {},
   "cell_type": "markdown",
   "metadata": {},
   "source": [
    "## ***Jun 19***"
   ]
  },
  {
   "cell_type": "code",
   "execution_count": 9,
   "metadata": {},
   "outputs": [
    {
     "name": "stdout",
     "output_type": "stream",
     "text": [
      "[ 8.32336516e-05 -8.67790064e-05 -7.87800605e-05 -1.35558524e-04\n",
      "  2.56569186e-04  6.43199000e-04  9.71353554e-04  1.40800130e-03\n",
      "  2.54949229e-03]\n",
      "[497.57699999 497.56799999 497.53300003 497.55399999 497.54400002\n",
      " 497.57       497.58900001 497.56800001 497.60400002]\n"
     ]
    },
    {
     "data": {
      "text/plain": [
       "[<matplotlib.lines.Line2D at 0x1a80c5608d0>]"
      ]
     },
     "execution_count": 9,
     "metadata": {},
     "output_type": "execute_result"
    },
    {
     "data": {
      "image/png": "[encoded data removed]",
      "text/plain": [
       "<Figure size 640x480 with 1 Axes>"
      ]
     },
     "metadata": {},
     "output_type": "display_data"
    }
   ],
   "source": [
    "import numpy as np\n",
    "from scipy.interpolate import make_interp_spline, BSpline \n",
    "from scipy.optimize import minimize, curve_fit\n",
    "from matplotlib import pyplot as ppt\n",
    "\n",
    "\n",
    "M_RCNC = np.array([497.577, 497.568, 497.533, 497.554, 497.544, 497.57, 497.589, 497.568, 497.604])\n",
    "RC_data = np.array([0.1, 0.099, 0.089, 0.08, 0.071, 0.116, 0.191, 0.334, 1.453])\n",
    "E = np.array([504.8, 507.862, 508.404, 508.957, 509.528, 509.956, 510.458, 511.035, 513.864])\n",
    "M_vis = np.round(M_RCNC + RC_data, 3)\n",
    "\n",
    "def interpolate(x: np.ndarray, y: np.ndarray, energy_range: tuple)->tuple[np.ndarray, np.ndarray]:\n",
    "    \n",
    "    data = np.array([x, y]).T \n",
    "    data2 = data[data[:,0].argsort()]\n",
    "    spline = make_interp_spline(data2[:, 0], data2[:, 1], k=2)\n",
    "\n",
    "    xs = np.linspace(energy_range[0], energy_range[1], 10000)\n",
    "    return xs, spline(xs)\n",
    "\n",
    "energy_range, RC_interp = interpolate(E, RC_data, (504, 515))\n",
    "energy_range, M_vis_interp = interpolate(E, M_vis, (504, 515))\n",
    "\n",
    "def Get_RC(energy: float | np.ndarray)->float | np.ndarray:\n",
    "    return np.interp(energy, energy_range, RC_interp)\n",
    "\n",
    "def Get_M_vis(energy: float | np.ndarray)->float | np.ndarray:\n",
    "    return np.interp(energy, energy_range, M_vis_interp)\n",
    "\n",
    "\n",
    "ppt.plot(energy_range, RC_interp)\n",
    "# ppt.draw()\n",
    "\n",
    "M_fit = curve_fit(lambda x, a: a, E, M_RCNC, sigma=M_RCNC_err)\n",
    "print('M_fit =', np.round(M_fit[0][0], 3), 'MeV')\n",
    "\n",
    "def FCN(delta: float)->float:\n",
    "    return (Get_M_vis(E) - Get_RC(E + delta)) - #mean(Get_M_vis(E) - Get_RC(E + delta)) -> minimize"
   ]
  }
 ],
 "metadata": {
  "kernelspec": {
   "display_name": "base",
   "language": "python",
   "name": "python3"
  },
  "language_info": {
   "codemirror_mode": {
    "name": "ipython",
    "version": 3
   },
   "file_extension": ".py",
   "mimetype": "text/x-python",
   "name": "python",
   "nbconvert_exporter": "python",
   "pygments_lexer": "ipython3",
   "version": "3.11.2"
  },
  "orig_nbformat": 4
 },
 "nbformat": 4,
 "nbformat_minor": 2
}
