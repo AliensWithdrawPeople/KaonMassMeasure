{
 "cells": [
  {
   "cell_type": "markdown",
   "metadata": {},
   "source": [
    "## Nov 15 2023"
   ]
  },
  {
   "cell_type": "markdown",
   "metadata": {},
   "source": [
    "Convolved energy spectrum in MC with e+e- -> KsKl xsection. It changed the result drastically.\n",
    "<div>\n",
    "<img src=\"PictureDump/Nov2023/MassVsEbeam.png\" alt=\"Drawing\" style=\"width: 1000px;\"/>\n",
    "</div>"
   ]
  },
  {
   "cell_type": "markdown",
   "metadata": {},
   "source": [
    "Now we're talking! hooray!!!\n",
    "<div>\n",
    "<img src=\"PictureDump/Nov2023/MegaImportantThing.gif\" alt=\"Mega Important Thing! Unfortunately you don't see it :(\" style=\"width: 600px;\"/>\n",
    "</div>"
   ]
  }
 ],
 "metadata": {
  "language_info": {
   "name": "python"
  }
 },
 "nbformat": 4,
 "nbformat_minor": 2
}
