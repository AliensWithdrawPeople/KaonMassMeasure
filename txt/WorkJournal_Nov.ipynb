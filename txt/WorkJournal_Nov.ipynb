{
 "cells": [
  {
   "cell_type": "markdown",
   "metadata": {},
   "source": [
    "## Nov 15 2023"
   ]
  },
  {
   "cell_type": "markdown",
   "metadata": {},
   "source": [
    "Convolved energy spectrum in MC with e+e- -> KsKl xsection. It changed the result drastically.\n",
    "<div>\n",
    "<img src=\"PictureDump/Nov2023/MassVsEbeam.png\" alt=\"Drawing\" style=\"width: 1000px;\"/>\n",
    "</div>"
   ]
  },
  {
   "cell_type": "markdown",
   "metadata": {},
   "source": [
    "Now we're talking! hooray!!!\n",
    "<div>\n",
    "<img src=\"PictureDump/Nov2023/MegaImportantThing.gif\" alt=\"Mega Important Thing! Unfortunately you don't see it :(\" style=\"width: 600px;\"/>\n",
    "</div>"
   ]
  },
  {
   "cell_type": "code",
   "execution_count": 6,
   "metadata": {},
   "outputs": [
    {
     "name": "stdout",
     "output_type": "stream",
     "text": [
      "[0.109 0.074 0.066 0.058 0.072 0.113 0.191 0.317 0.436 1.442]\n",
      "[-0.0071, -0.0016, -0.0054, -0.0015, -0.0009, 0.0008, 0.0042, 0.0029, -0.004, 0.0051]\n",
      "[0.0032, 0.0036, 0.0034, 0.0018, 0.0017, 0.002, 0.005, 0.0069, 0.0086, 0.0184]\n"
     ]
    }
   ],
   "source": [
    "import numpy as np\n",
    "\n",
    "mass = np.array([497.638, 497.665, 497.642, 497.63, 497.634, 497.699, 497.79, 497.9, 498.024, 499.045])\n",
    "mass_RC = np.array([497.529, 497.591, 497.576, 497.572, 497.562, 497.586, 497.599, 497.583, 497.588, 497.603])\n",
    "\n",
    "print(mass - mass_RC)\n",
    "\n",
    "ecorr = np.array([0.0984153, 0.0744702, 0.0639822, 0.0584108, 0.0760487, 0.119492, 0.201323, 0.338991, 0.463166, 1.54571])\n",
    "ecorr_err = np.array([0.00194074, 0.0022625, 0.0020729, 0.00108828, 0.00104003, 0.00122872, 0.00306742, 0.00423206, 0.00521031, 0.0112342])\n",
    "\n",
    "ecorr_sm = np.array([0.105504, 0.0760349, 0.069423, 0.0598971, 0.0769491, 0.118673, 0.197142, 0.336072, 0.467132, 1.54063])\n",
    "ecorr_sm_err = np.array([0.00258291, 0.00285727, 0.00271313, 0.00137076, 0.00132589, 0.00158087, 0.00393903, 0.0054766, 0.00680275, 0.0145707])\n",
    "\n",
    "print(list(np.round(ecorr - ecorr_sm, 4)))\n",
    "print(list(np.round((ecorr_err**2 + ecorr_sm_err**2)**0.5, 4)))"
   ]
  }
 ],
 "metadata": {
  "kernelspec": {
   "display_name": "Python 3",
   "language": "python",
   "name": "python3"
  },
  "language_info": {
   "codemirror_mode": {
    "name": "ipython",
    "version": 3
   },
   "file_extension": ".py",
   "mimetype": "text/x-python",
   "name": "python",
   "nbconvert_exporter": "python",
   "pygments_lexer": "ipython3",
   "version": "3.11.2"
  }
 },
 "nbformat": 4,
 "nbformat_minor": 2
}
