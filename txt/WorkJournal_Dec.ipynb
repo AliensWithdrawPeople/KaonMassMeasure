{
 "cells": [
  {
   "cell_type": "markdown",
   "metadata": {},
   "source": [
    "# Cross section of $\\phi \\rightarrow K_S K_L $ fit"
   ]
  },
  {
   "cell_type": "markdown",
   "metadata": {},
   "source": [
    "## Const bkg (only right sideband from 540 to 576 MeV/c^{2}): pol0 Nll\n",
    "\n",
    "minimum:\n",
    "* Valid         : yes\n",
    "* Function calls: 79\n",
    "* Minimum value : 58.5896222\n",
    "* Edm           : 1.941476557e-06\n",
    "\n",
    "Internal parameters:\n",
    "* 1019.443158\n",
    "* 4.230303939\n",
    "* 0.0004272924335\n",
    "* 0.552564202\n",
    " \n",
    "Internal covariance matrix:\n",
    "|          |     MPhi_n    |     WPhin     |       GB      |     grho      |\n",
    "|----------|---------------|---------------|---------------|---------------|\n",
    "|  MPhi_n  | 2.3514943e-05 | 1.6780167e-05 | 2.0891886e-09 | 0.00026216829 |\n",
    "|  WPhin   | 1.6780167e-05 | 0.00010331974 | 5.9036282e-09 |  0.0002201585 |\n",
    "|    GB    | 2.0891886e-09 | 5.9036282e-09 |  6.284256e-13 | 3.7009972e-08 |\n",
    "|   grho   | 0.00026216829 |  0.0002201585 | 3.7009972e-08 |  0.0079455356 |\n",
    "\n",
    "\n",
    "External parameters:\n",
    "|Pos |    Name    |  type   |      Value       |    Error +/-   |\n",
    "|----|------------|---------|------------------|----------------|\n",
    "|  0 |     MPhi_n |  free   |      1019.443158 | 0.004849220854 |\n",
    "|  1 |      WPhin |  free   |      4.230303939 | 0.01016463183  |\n",
    "|  2 |         GB |  free   |  0.0004272924335 | 7.927329966e-07|\n",
    "|  3 |         An |  fixed  |                0 |        1e-05   |\n",
    "|  4 |       phin |  fixed  |                0 |        1e-05   |\n",
    "|  5 |       grho |  free   |      0.552564202 | 0.08913773374  |\n",
    "|  6 |     phirho |  fixed  |                0 |        1e-05   |\n",
    "\n",
    "$S_{max} =  1424.0107\\ nb^{-1}$"
   ]
  },
  {
   "cell_type": "markdown",
   "metadata": {},
   "source": [
    "## MC shape + pol2 bkg Nll\n",
    "\n",
    "minimum:\n",
    "* Valid         : yes\n",
    "* Function calls: 92\n",
    "* Minimum value : 58.85006109\n",
    "* Edm           : 6.315758206e-05\n",
    "  \n",
    "Internal parameters:\n",
    "* 1019.445022\n",
    "* 4.244042467\n",
    "* 0.0004394446536\n",
    "* 0.4250494839\n",
    "  \n",
    "Internal covariance matrix:\n",
    "|          |     MPhi_n    |     WPhin     |       GB      |     grho      |\n",
    "|----------|---------------|---------------|---------------|---------------|\n",
    "|  MPhi_n  | 2.3159708e-05 | 1.6671173e-05 | 2.1162408e-09 | 0.00025396442 |\n",
    "|  WPhin   | 1.6671173e-05 | 0.00010210211 | 5.9787599e-09 | 0.00021741467 |\n",
    "|    GB    | 2.1162408e-09 | 5.9787599e-09 | 6.5228003e-13 | 3.7029682e-08 |\n",
    "|   grho   | 0.00025396442 | 0.00021741467 | 3.7029682e-08 | 0.0076393556  |\n",
    "\n",
    "External parameters:\n",
    "| Pos |    Name    |  type   |      Value       |    Error +/-   |\n",
    "|-----|------------|---------|------------------|----------------|\n",
    "|   0 |     MPhi_n |  free   |      1019.445022 | 0.004812453381 |\n",
    "|   1 |      WPhin |  free   |      4.244042467 | 0.01010455907  |\n",
    "|   2 |         GB |  free   |  0.0004394446536 | 8.076385485e-07|\n",
    "|   3 |         An |  fixed  |                0 |        1e-05   |\n",
    "|   4 |       phin |  fixed  |                0 |        1e-05   |\n",
    "|   5 |       grho |  free   |     0.4250494839 | 0.08740340713  |\n",
    "|   6 |     phirho |  fixed  |                0 |        1e-05   |\n",
    "\n",
    "$S_{max} =  1460.9097\\ nb^{-1}$\n"
   ]
  }
 ],
 "metadata": {
  "language_info": {
   "name": "python"
  }
 },
 "nbformat": 4,
 "nbformat_minor": 2
}
