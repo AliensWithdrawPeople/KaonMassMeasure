{
 "cells": [
  {
   "attachments": {},
   "cell_type": "markdown",
   "metadata": {},
   "source": [
    "## ***Jul 3 2023***"
   ]
  },
  {
   "attachments": {},
   "cell_type": "markdown",
   "metadata": {},
   "source": [
    "New cuts (prelim.cpp and PhiToKn.cpp). Hence new $\\varepsilon_{MC}$."
   ]
  },
  {
   "attachments": {},
   "cell_type": "markdown",
   "metadata": {},
   "source": [
    "## ***Jul 4 2023***"
   ]
  },
  {
   "attachments": {},
   "cell_type": "markdown",
   "metadata": {},
   "source": [
    "Results after reprocessing data with new cuts:"
   ]
  },
  {
   "cell_type": "code",
   "execution_count": 16,
   "metadata": {},
   "outputs": [
    {
     "name": "stdout",
     "output_type": "stream",
     "text": [
      "[0.000468, 0.000465, 0.000462, 0.000459, 0.000458, 0.000457, 0.000456, 0.000456, 0.000456, 0.000455, 0.000455, 0.000453]\n"
     ]
    },
    {
     "data": {
      "image/png": "[encoded data removed]",
      "text/plain": [
       "<Figure size 640x480 with 1 Axes>"
      ]
     },
     "metadata": {},
     "output_type": "display_data"
    }
   ],
   "source": [
    "import numpy as np\n",
    "import matplotlib.pyplot as ppt\n",
    "\n",
    "energy_points = [\"501\", \"503\", \"505\", \"508\", \"508.5\", \"509\", \"509.5\", \"510\", \"510.5\", \"511\", \"511.5\", \"514\"]\n",
    "energy = np.array([500.9293, 502.9799, 504.8, 507.862, 508.404, 508.957, 509.528, 509.956, 510.458, 511.035, 511.4479, 513.864])\n",
    "e_MC = np.array([0.3243, 0.3159, 0.30936, 0.30119, 0.29888, 0.29666, 0.29577, 0.2943, 0.29392, 0.29347, 0.29376, 0.28929])\n",
    "n_events = [835, 3937, 2620, 36291, 155280, 189498, 757961, 579450, 239092, 107128, 65406, 21599]\n",
    "\n",
    "lumi = np.array([519.365, 1232.43, 454.856, 548.972, 1395.09, 979.506, 2621.62, 2041.31, 1053.46, 780.307, 561.27, 520.924])\n",
    "lumi_err = np.array([0.996744, 1.54306, 0.94111, 1.0394, 1.6559, 1.38908, 2.27821, 2.01353, 1.44786, 1.24862, 1.06109, 1.02696])\n",
    "\n",
    "sigma_vis = np.array([1.60773, 3.1945, 5.76006, 66.1072, 111.30465, 193.46283, 289.11932, 283.86183, 226.95878, 137.28955, 116.53215, 41.46286])\n",
    "sigma_vis_with_eff= np.array([4.95755, 10.11238, 18.61929, 219.48669, 372.40581, 652.13654, 977.51402, 964.53223, 772.17877, 467.81461, 396.69169, 143.32629])\n",
    "sigma_vis_err = np.array([0.17183, 0.16166, 0.36579, 1.2248, 1.04332, 1.76056, 1.40793, 1.58452, 1.90267, 1.61346, 1.7229, 1.01534])\n",
    "\n",
    "print(list(np.round(np.sqrt(e_MC * (1 - e_MC) * 1e-6), 6) ))\n",
    "ppt.errorbar(energy, sigma_vis_with_eff, yerr=sigma_vis_err, marker='o', linestyle='none')\n",
    "ppt.show()"
   ]
  },
  {
   "attachments": {},
   "cell_type": "markdown",
   "metadata": {},
   "source": [
    "<div>\n",
    "<img src=\"PictureDump/Jul2023/KsSpectrum_dataMC_E%3D509.png\" alt=\"Drawing\" style=\"width: 800px;\"/>\n",
    "</div>"
   ]
  },
  {
   "attachments": {},
   "cell_type": "markdown",
   "metadata": {},
   "source": [
    "Cross section of $\\phi \\rightarrow K_{S}K_{L}$:\n",
    "<div>\n",
    "<img src=\"PictureDump/Jul2023/PhiToKsKl_bornXSec.png\" alt=\"Drawing\" style=\"width: 800px;\"/>\n",
    "</div>"
   ]
  },
  {
   "attachments": {},
   "cell_type": "markdown",
   "metadata": {},
   "source": [
    "chi2/ndf = 1220/9\n",
    "\n",
    "S_peak = 1421.121 +/- 1.7706 nb\n",
    "\n",
    "M_phi = 1019.4146 +/- 0.00296 MeV\n",
    "\n",
    "W_phi = 4.1503 +/- 0.00784 MeV"
   ]
  },
  {
   "cell_type": "code",
   "execution_count": 14,
   "metadata": {},
   "outputs": [],
   "source": [
    "chi2 = 1220\n",
    "ndf = 9\n",
    "# nb\n",
    "S_peak = 1421.121\n",
    "S_peak_err = 1.7706\n",
    "\n",
    "# MeV\n",
    "M_phi = 1019.4146\n",
    "M_phi_err = 0.00296\n",
    "\n",
    "#MeV\n",
    "W_phi = 4.1503\n",
    "W_phi_err = 0.00784 "
   ]
  },
  {
   "attachments": {},
   "cell_type": "markdown",
   "metadata": {},
   "source": [
    "## ***Jul 5 2023***"
   ]
  },
  {
   "cell_type": "code",
   "execution_count": null,
   "metadata": {},
   "outputs": [],
   "source": [
    "\n",
    "e_MC = [0.32378, 0.3154, 0.30875, 0.3006, 0.2984, 0.29615, 0.29522, 0.29377, 0.29341, 0.29285, 0.29312, 0.28841]\n",
    "lumi = [463.81, 1213.94, 310.388, 512.997, 1364.79, 962.61, 2512.28, 1963.85, 1039.19, 697.626, 509.562, 505.252]\n",
    "lumi_err = [1.05125, 1.70613, 0.866127, 1.12028, 1.8298, 1.53774, 2.48812, 2.20256, 1.60331, 1.31385, 1.125, 1.12422]\n",
    "\n",
    "sigma_vis_with_eff = [4.90769, 10.24873, 25.05418, 220.7813, 379.41985, 660.24629, 990.78397, 984.43248, 782.4538, 523.23602, 401.3181, 147.66703]\n",
    "sigma_vis_err = [0.18078, 0.16361, 0.51132, 1.20751, 1.00958, 1.86241, 1.89535, 2.13222, 2.17138, 1.78971, 1.72967, 1.00954]"
   ]
  },
  {
   "attachments": {},
   "cell_type": "markdown",
   "metadata": {},
   "source": [
    "Problems with $\\theta$ distribution: data/MC discrepancy in border regions (~1 rad and ~$\\pi-1$ rad)"
   ]
  },
  {
   "attachments": {},
   "cell_type": "markdown",
   "metadata": {},
   "source": [
    "To omit data/MC discrepancy we applied new $\\theta$ cut: $1.1 < \\theta < \\pi - 1.1$:\n",
    "<div>\n",
    "<img src=\"PictureDump/Jul2023/Efficiency_theta_1.1cut.png\" alt=\"Drawing\" style=\"width: 900px;\"/>\n",
    "</div>"
   ]
  },
  {
   "attachments": {},
   "cell_type": "markdown",
   "metadata": {},
   "source": [
    "With such cuts we have\n",
    "<div>\n",
    "<img src=\"PictureDump/Jul2023/PhiToKsKl_bornXSec_thetaCut1.1.png\" alt=\"Drawing\" style=\"width: 1000px;\"/>\n",
    "</div>"
   ]
  },
  {
   "cell_type": "code",
   "execution_count": null,
   "metadata": {},
   "outputs": [],
   "source": [
    "chi2 = 259\n",
    "ndf = 9\n",
    "# nb\n",
    "S_peak = 1439.522350695 \n",
    "S_peak_err = 2.607075195462\n",
    "\n",
    "# MeV\n",
    "M_phi =  1019.4611306416\n",
    "M_phi_err = 0.003679838651114\n",
    "\n",
    "W_phi = 4.248339995823\n",
    "W_phi_err = 0.01009526265156"
   ]
  },
  {
   "attachments": {},
   "cell_type": "markdown",
   "metadata": {},
   "source": [
    "We found noticeable level of background events on the left slope (E_beam = 501, 503, 505 MeV). We subtracted sidebands from signal region (485 MeV < $M^{inv}_{K_{S}}$ < 510 MeV).\n",
    "<div>\n",
    "<img src=\"PictureDump/Jul2023/KsSpectrum_dataMC_E%3D503_withBckg.png\" alt=\"Drawing\" style=\"width: 1000px;\"/>\n",
    "</div>"
   ]
  },
  {
   "attachments": {},
   "cell_type": "markdown",
   "metadata": {},
   "source": [
    "After this we fitted cross section and obtained the following results: \n",
    "\n",
    "<div>\n",
    "<img src=\"PictureDump/Jul2023/PhiToKsKl_bornXSec_thetaCut1.1_leftSlope_NoBckg.png\" alt=\"Drawing\" style=\"width: 1000px;\"/>\n",
    "</div>"
   ]
  },
  {
   "cell_type": "code",
   "execution_count": null,
   "metadata": {},
   "outputs": [],
   "source": [
    "chi2 = 61\n",
    "ndf = 9\n",
    "# nb\n",
    "S_peak = 1443.54727\n",
    "S_peak_err = 2.59936\n",
    "\n",
    "# MeV\n",
    "M_phi =  1019.459095\n",
    "M_phi_err = 0.003672\n",
    "\n",
    "# MeV\n",
    "W_phi = 4.248340\n",
    "W_phi_err = 0.010095\n",
    "\n",
    "\n",
    "# minimum internal covariance matrix: LASymMatrix parameters:\n",
    "#       6.7566663  -0.0013991959     -0.0203992\n",
    "#   -0.0013991959  1.3482272e-05  1.0608428e-05\n",
    "#      -0.0203992  1.0608428e-05  9.8284391e-05"
   ]
  },
  {
   "attachments": {},
   "cell_type": "markdown",
   "metadata": {},
   "source": [
    "# ***Jul 6***"
   ]
  },
  {
   "attachments": {},
   "cell_type": "markdown",
   "metadata": {},
   "source": [
    "Added 4 points on the right slope: E_beam = 517, 520, 525, 530 MeV. "
   ]
  },
  {
   "attachments": {},
   "cell_type": "markdown",
   "metadata": {},
   "source": [
    "Changed ksptot cut: for points with energy0 > 513 ksLowerBound = 85 to account for reset to the resonance (left peak on $P_{K_{S}} \\approx 110\\ MeV/c^2$ );\n",
    "<div>\n",
    "<img src=\"PictureDump/Jul2023/KsMom_MC517MeV.png\" alt=\"Drawing\" style=\"width: 1000px;\"/>\n",
    "</div>"
   ]
  },
  {
   "attachments": {},
   "cell_type": "markdown",
   "metadata": {},
   "source": [
    "After this changes efficiency vs Energy looks like that.\n",
    "<div>\n",
    "<img src=\"PictureDump/Jul2023/Efficiency_theta_1.1cut_16pts_KsMomLowerBound_85_RighttSlope.png\" alt=\"Drawing\" style=\"width: 1000px;\"/>\n",
    "</div>"
   ]
  },
  {
   "attachments": {},
   "cell_type": "markdown",
   "metadata": {},
   "source": [
    "Points E = 505, 508, 510 MeV are still troublesome. I've set to run new MC for points E = 505, 508, 514 MeV cause the old MC files are small (just 100k events instead 1kk)."
   ]
  },
  {
   "cell_type": "code",
   "execution_count": 15,
   "metadata": {},
   "outputs": [
    {
     "name": "stdout",
     "output_type": "stream",
     "text": [
      "[0.000442, 0.000437, 0.000434, 0.000429, 0.000427, 0.000426, 0.000425, 0.000424, 0.000424, 0.000424, 0.000424, 0.00042, 0.000418, 0.000415, 0.000408]\n"
     ]
    }
   ],
   "source": [
    "import numpy as np\n",
    "\n",
    "energy = np.array([500.9293, 502.9799, 504.8, 507.862, 508.404, 508.957, 509.528, 509.956, 510.458, 511.035, 511.4479, 513.864, 516.9, 519.897, 524.902, 529.999])\n",
    "n_events = np.array([302, 2620, 1735, 27365, 124438, 151469, 591058, 456543, 191690, 85594, 48069, 16469, 8922, 5225, 4018, 2559])\n",
    "lumi = np.array([463.81, 1213.94, 310.388, 512.997, 1364.79, 962.61, 2512.28, 1963.85, 1039.19, 697.626, 509.562, 505.252, 533.464, 481.78, 583.954, 537.448])\n",
    "lumi_err = np.array([1.05125, 1.70613, 0.866127, 1.12028, 1.8298, 1.53774, 2.48812, 2.20256, 1.60331, 1.31385, 1.125, 1.12422, 1.16215, 1.11148, 1.23467, 1.19585])\n",
    "\n",
    "e_MC = np.array([0.26591, 0.2577, 0.2517, 0.24325, 0.24028, 0.23805, 0.23718, 0.23539, 0.23547, 0.23485, 0.23438, 0.22889, 0.22556, 0.22062, 0.21109])\n",
    "e_MC_err = np.array([0.000442, 0.000437, 0.000434, 0.000429, 0.000427, 0.000426, 0.000425, 0.000424, 0.000424, 0.000424, 0.000424, 0.000421, 0.00042, 0.000419, 0.000416, 0.00041])"
   ]
  },
  {
   "attachments": {},
   "cell_type": "markdown",
   "metadata": {},
   "source": [
    "<div>\n",
    "<img src=\"PictureDump/Jul2023/PhiToKsKl_bornXSec_thetaCut1.1_16pts.png\" alt=\"Drawing\" style=\"width: 1000px;\"/>\n",
    "</div>"
   ]
  },
  {
   "attachments": {},
   "cell_type": "markdown",
   "metadata": {},
   "source": [
    "<div>\n",
    "<img src=\"PictureDump/Jul2023/PhiToKsKl_bornXSecResiduals_thetaCut1.1_16pts.png\" alt=\"Drawing\" style=\"width: 700px;\"/>\n",
    "<img src=\"PictureDump/Jul2023/PhiToKsKl_bornXSecRatio_thetaCut1.1_16pts.png\" alt=\"Drawing\" style=\"width: 700px;\"/>\n",
    "</div>"
   ]
  },
  {
   "cell_type": "code",
   "execution_count": null,
   "metadata": {},
   "outputs": [],
   "source": [
    "chi2 = 52\n",
    "ndf = 13\n",
    "# nb\n",
    "S_peak = 1446.4854\n",
    "S_peak_err = 2.5811\n",
    "\n",
    "# MeV\n",
    "M_phi =  1019.4528\n",
    "M_phi_err = 0.0036\n",
    "\n",
    "# MeV\n",
    "W_phi = 4.19682\n",
    "W_phi_err = 0.009407\n",
    "\n",
    "\n",
    "# minimum internal covariance matrix: LASymMatrix parameters:\n",
    "# 6.6619958  -0.0011412121   -0.019268854\n",
    "# -0.0011412121  1.3050077e-05  8.6644382e-06\n",
    "# -0.019268854  8.6644382e-06  8.8490107e-05"
   ]
  },
  {
   "attachments": {},
   "cell_type": "markdown",
   "metadata": {},
   "source": [
    "# ***Jul 7***"
   ]
  },
  {
   "attachments": {},
   "cell_type": "markdown",
   "metadata": {},
   "source": [
    "Background to luminosity ratio for far left and far right slopes of $\\phi$-meson resonance:"
   ]
  },
  {
   "cell_type": "code",
   "execution_count": 20,
   "metadata": {},
   "outputs": [
    {
     "name": "stdout",
     "output_type": "stream",
     "text": [
      "N_bckg/L = [0.55096, 0.33513, 0.63147, 0.88467, 0.8514, 0.83545, 0.95334]\n",
      "N_bckg/L error = [0.09305, 0.04184, 0.14596, 0.10435, 0.1095, 0.0959, 0.10704]\n"
     ]
    }
   ],
   "source": [
    "import numpy as np\n",
    "\n",
    "energy_points = [\"501\", \"503\", \"505\", \"517\", \"520\", \"525\", \"530\"]\n",
    "lumi = np.array([463.81, 1213.94, 310.388, 533.464, 481.78, 583.954, 537.448])\n",
    "lumi_err = np.array([1.05125, 1.70613, 0.866127, 1.16215, 1.11148, 1.23467, 1.19585])\n",
    "n_bckg = np.array([255.543, 406.822, 196.0, 471.942, 410.188, 487.863, 512.371])\n",
    "n_bckg_err = np.array([43.155, 50.7926, 45.2997, 55.659, 52.7441, 55.9904, 57.5169])\n",
    "bckg_err = np.sqrt( (n_bckg_err / lumi )**2 + (n_bckg / (lumi**2))**2 * lumi_err**2)\n",
    "\n",
    "print(\"N_bckg/L =\", list(np.round(n_bckg / lumi, 5)))\n",
    "print(\"N_bckg/L error =\", list(np.round(bckg_err, 5)))"
   ]
  },
  {
   "attachments": {},
   "cell_type": "markdown",
   "metadata": {},
   "source": [
    "Errors of energy (both, systematic and statistical, errors are accounted):"
   ]
  },
  {
   "cell_type": "code",
   "execution_count": 28,
   "metadata": {},
   "outputs": [
    {
     "name": "stdout",
     "output_type": "stream",
     "text": [
      "Energy points, MeV = [501.0, 503.0, 505.0, 508.0, 508.5, 509.0, 509.5, 510.0, 510.5, 511.0, 511.5, 514.0, 517.0, 520.0, 525.0, 530.0]\n",
      "Mean energies_cms, MeV = [1001.856, 1005.96, 1009.6, 1015.724, 1016.808, 1017.914, 1019.056, 1019.912, 1020.916, 1022.07, 1022.888, 1027.728, 1033.8, 1039.794, 1049.804, 1059.998]\n",
      "Energy errors, MeV = [0.00786, 0.00487, 0.00707, 0.00692, 0.0234, 0.00892, 0.01784, 0.02289, 0.01003, 0.00613, 0.00754, 0.00935, 0.0259, 0.02395, 0.02485, 0.0588]\n"
     ]
    }
   ],
   "source": [
    "import pandas as pd\n",
    "from IPython.display import display\n",
    "\n",
    "energy_dataset = pd.read_csv(\"C:/work/Science/BINP/RHO2018.csv\")\n",
    "energy_dataset=energy_dataset[['energy_point', 'mean_energy', 'mean_energy_stat_err', 'mean_energy_sys_err', 'used_lum']]\n",
    "energy_dataset = energy_dataset.query('531 > energy_point > 500').tail(20)\n",
    "energy_dataset = energy_dataset.eval('mean_energy_err = sqrt(mean_energy_stat_err**2 + mean_energy_sys_err**2)')\n",
    "print(\"Energy points, MeV =\", list(np.round(energy_dataset['energy_point'], 5)))\n",
    "print(\"Mean energies_cms, MeV =\", list(np.round(energy_dataset['mean_energy'] * 2, 6)))\n",
    "print(\"Energy errors, MeV =\", list(np.round(energy_dataset['mean_energy_err'], 5)))"
   ]
  },
  {
   "attachments": {},
   "cell_type": "markdown",
   "metadata": {},
   "source": [
    "<div>\n",
    "<img src=\"PictureDump/Jul2023/PhiToKsKl_bornXSec_NewFitFunc.png\" alt=\"Drawing\" style=\"width: 1000px;\"/>\n",
    "</div>"
   ]
  },
  {
   "attachments": {},
   "cell_type": "markdown",
   "metadata": {},
   "source": [
    "<div>\n",
    "<img src=\"PictureDump/Jul2023/PhiToKsKl_bornXSecResiduals_NewFitFunc.png\" alt=\"Drawing\" style=\"width: 700px;\"/>\n",
    "<img src=\"PictureDump/Jul2023/PhiToKsKl_bornXSecRatio_NewFitFunc.png\" alt=\"Drawing\" style=\"width: 700px;\"/>\n",
    "</div>"
   ]
  },
  {
   "cell_type": "code",
   "execution_count": null,
   "metadata": {},
   "outputs": [],
   "source": [
    "chi2 = 50.0\n",
    "ndf = 13\n",
    "# nb; Evaluated post factum cause it's not a fit parameter.\n",
    "S_peak = 1442.4417\n",
    "\n",
    "# MeV\n",
    "M_phi =  1019.4586\n",
    "M_phi_err = 0.0046\n",
    "\n",
    "# MeV\n",
    "W_phi = 4.189\n",
    "W_phi_err = 0.0097\n",
    "\n",
    "# MeV\n",
    "Gamma_phiee__Br_phiKsKl = 0.0004296\n",
    "Gamma_phiee__Br_phiKsKl_err = 7.1028e-07\n",
    "\n",
    "# No\n",
    "grho = 0.97212\n",
    "grho_err = 0.08526\n",
    "\n",
    "# minimum internal covariance matrix: LASymMatrix parameters:\n",
    "# 2.1498842e-05  1.5432754e-05  1.8767081e-09  0.00024975834\n",
    "# 1.5432754e-05  9.4674253e-05  4.3139686e-09  0.00016649097\n",
    "# 1.8767081e-09  4.3139686e-09  5.0449612e-13  3.1249081e-08\n",
    "# 0.00024975834  0.00016649097  3.1249081e-08   0.0072701974"
   ]
  },
  {
   "cell_type": "markdown",
   "metadata": {},
   "source": [
    "## ***Jul 10***"
   ]
  },
  {
   "cell_type": "code",
   "execution_count": 42,
   "metadata": {},
   "outputs": [
    {
     "name": "stdout",
     "output_type": "stream",
     "text": [
      "Delta E = 0.1345 +/- -1 MeV\n",
      "M_fit = 497.5468 +/- 0.0047 MeV\n",
      "M_new = [497.5749, 497.5704, 497.535, 497.5581, 497.5342, 497.5524, 497.5609, 497.5294, 497.5347]\n",
      "RC_shifted = [0.1021, 0.0966, 0.087, 0.0759, 0.0808, 0.1336, 0.2191, 0.3726, 1.5223]\n"
     ]
    }
   ],
   "source": [
    "%reload_ext autoreload\n",
    "\n",
    "import sys\n",
    "sys.path.append('C:\\\\work\\\\Science\\\\BINP\\\\Kaon Mass Measure')\n",
    "from AuxScripts.MassWithEnergyShift import GetMass\n",
    "\n",
    "delta_E = (1019.459 - 1019.190) / 2\n",
    "GetMass(delta_E)"
   ]
  },
  {
   "cell_type": "code",
   "execution_count": 43,
   "metadata": {},
   "outputs": [
    {
     "name": "stdout",
     "output_type": "stream",
     "text": [
      "[497.571, 497.549, 497.527, 497.539, 497.538, 497.55, 497.545, 497.517, 497.542]\n"
     ]
    }
   ],
   "source": [
    "import numpy as np\n",
    "\n",
    "mass_vis = np.array([497.673, 497.646, 497.614, 497.615, 497.619, 497.684, 497.764, 497.89, 499.064])\n",
    "RC = np.array([0.1021, 0.0966, 0.087, 0.0759, 0.0808, 0.1336, 0.2191, 0.3726, 1.5223])\n",
    "print(list(np.round(mass_vis - RC, 3)))"
   ]
  },
  {
   "cell_type": "markdown",
   "metadata": {},
   "source": [
    "<div>\n",
    "<img src=\"PictureDump/Jul2023/Efficiency_NewOldComparison.png\" alt=\"Drawing\" style=\"width: 1200px;\"/>\n",
    "</div>"
   ]
  },
  {
   "cell_type": "markdown",
   "metadata": {},
   "source": [
    "In MultiHadron MC I have 0.025% of $\\pi^+ \\pi^- \\pi^+ \\pi^-$, 0.025% of $K^+ K^-$, 0.05% of $\\pi^+ \\pi^- \\pi^0 \\pi^0$, 0.18% of $\\pi^+ \\pi^- \\pi^0$."
   ]
  },
  {
   "cell_type": "markdown",
   "metadata": {},
   "source": [
    "## ***Jul 11***"
   ]
  },
  {
   "cell_type": "markdown",
   "metadata": {},
   "source": [
    "Ks mass (fit instead of profile):"
   ]
  },
  {
   "cell_type": "code",
   "execution_count": 6,
   "metadata": {},
   "outputs": [
    {
     "name": "stdout",
     "output_type": "stream",
     "text": [
      "[-0.03, 0.015, -0.01, -0.025, -0.003, 0.009, 0.001, 0.014]\n",
      "[0.077499, 0.030053, 0.016617, 0.016617, 0.013647, 0.01393, 0.015839, 0.020436]\n"
     ]
    }
   ],
   "source": [
    "import numpy as np\n",
    "\n",
    "Ks_mass = np.array([497.747, 497.725, 497.674, 497.675, 497.679, 497.7, 497.717, 497.746, 497.811])\n",
    "Ks_mass_err = np.array([0.0169035, 0.019126, 0.00601709, 0.00507779, 0.00498253, 0.00436062, 0.00433205, 0.00487195, 0.0185676])\n",
    "\n",
    "\n",
    "cowboy = np.array([497.747, 497.659, 497.615, 497.605, 497.621, 497.691, 497.765, 497.899])\n",
    "sailor = np.array([497.777, 497.644, 497.625, 497.63, 497.624, 497.682, 497.764, 497.885])\n",
    "\n",
    "cowboy_err = np.array([0.0549, 0.0214, 0.0117, 0.0117, 0.0096, 0.0099, 0.0112, 0.0145])\n",
    "sailor_err = np.array([0.0547, 0.0211, 0.0118, 0.0118, 0.0097, 0.0098, 0.0112, 0.0144])\n",
    "\n",
    "print(list(np.round(cowboy - sailor, 5)))\n",
    "print(list(np.round(np.sqrt(cowboy_err**2 + sailor_err**2), 6)))"
   ]
  },
  {
   "cell_type": "markdown",
   "metadata": {},
   "source": [
    "<div>\n",
    "<img src=\"PictureDump/Jul2023/CowboySailorMassDiff_exp.png\" alt=\"Drawing\" style=\"width: 1100px;\"/>\n",
    "</div>"
   ]
  }
 ],
 "metadata": {
  "kernelspec": {
   "display_name": "Python 3",
   "language": "python",
   "name": "python3"
  },
  "language_info": {
   "codemirror_mode": {
    "name": "ipython",
    "version": 3
   },
   "file_extension": ".py",
   "mimetype": "text/x-python",
   "name": "python",
   "nbconvert_exporter": "python",
   "pygments_lexer": "ipython3",
   "version": "3.11.2"
  },
  "orig_nbformat": 4
 },
 "nbformat": 4,
 "nbformat_minor": 2
}
