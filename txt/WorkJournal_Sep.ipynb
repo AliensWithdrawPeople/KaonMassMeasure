{
 "cells": [
  {
   "cell_type": "markdown",
   "metadata": {},
   "source": [
    "## Sep 25 2023"
   ]
  },
  {
   "cell_type": "code",
   "execution_count": 12,
   "metadata": {},
   "outputs": [
    {
     "name": "stdout",
     "output_type": "stream",
     "text": [
      "M_exp - (M_MC - M_MC@etrue) =  [497.556, 497.573, 497.563, 497.562, 497.562, 497.597, 497.596, 497.595, 497.592]\n",
      "M_exp - (M_MC - 497.614) =  [497.546, 497.562, 497.553, 497.557, 497.555, 497.59, 497.579, 497.585, 497.592]\n",
      "[0.039, 0.015, 0.011, 0.011, 0.009, 0.01, 0.011, 0.013, 0.045]\n"
     ]
    }
   ],
   "source": [
    "import numpy as np\n",
    "\n",
    "mass = np.array([497.738, 497.722, 497.706, 497.687, 497.697, 497.729, 497.81, 497.938, 499.077])\n",
    "mass_RC = np.array([497.624, 497.625, 497.624, 497.619, 497.621, 497.621, 497.631, 497.624, 497.614])\n",
    "\n",
    "mass_exp = np.array([497.731, 497.665, 497.647, 497.638, 497.636, 497.701, 497.785, 497.905, 499.089])\n",
    "mass_exp = np.array([497.67, 497.67, 497.645, 497.63, 497.638, 497.705, 497.775, 497.909, 499.055])\n",
    "\n",
    "err = np.array([0.037934, 0.0124772, 0.00612734, 0.00548657, 0.00284432, 0.0034071, 0.00571926, 0.00959551, 0.0438558])\n",
    "print('M_exp - (M_MC - M_MC@etrue) = ', list(np.round(mass_exp - (mass - mass_RC), 3)))\n",
    "print('M_exp - (M_MC - 497.614) = ', list(np.round(mass_exp - (mass - 497.614), 3)))\n",
    "print(list(np.round(np.sqrt(err**2 + 0.009**2), 3)))"
   ]
  },
  {
   "cell_type": "markdown",
   "metadata": {},
   "source": []
  }
 ],
 "metadata": {
  "kernelspec": {
   "display_name": "Python 3",
   "language": "python",
   "name": "python3"
  },
  "language_info": {
   "codemirror_mode": {
    "name": "ipython",
    "version": 3
   },
   "file_extension": ".py",
   "mimetype": "text/x-python",
   "name": "python",
   "nbconvert_exporter": "python",
   "pygments_lexer": "ipython3",
   "version": "3.11.2"
  },
  "orig_nbformat": 4
 },
 "nbformat": 4,
 "nbformat_minor": 2
}
