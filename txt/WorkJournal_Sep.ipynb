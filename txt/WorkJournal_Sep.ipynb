{
 "cells": [
  {
   "cell_type": "markdown",
   "metadata": {},
   "source": [
    "## Sep 25 2023"
   ]
  },
  {
   "cell_type": "code",
   "execution_count": 1,
   "metadata": {},
   "outputs": [
    {
     "name": "stdout",
     "output_type": "stream",
     "text": [
      "[497.617, 497.575, 497.57, 497.568, 497.558, 497.593, 497.603, 497.591, 497.605]\n",
      "[0.039, 0.015, 0.011, 0.011, 0.009, 0.01, 0.011, 0.013, 0.045]\n"
     ]
    }
   ],
   "source": [
    "import numpy as np\n",
    "\n",
    "mass = np.array([497.743, 497.72, 497.702, 497.695, 497.702, 497.732, 497.815, 497.941, 499.104])\n",
    "mass_RC = np.array([497.629, 497.63, 497.625, 497.625, 497.624, 497.624, 497.633, 497.627, 497.622])\n",
    "\n",
    "mass_exp = np.array([497.731, 497.665, 497.647, 497.638, 497.636, 497.701, 497.785, 497.905, 499.087])\n",
    "\n",
    "err = np.array([0.037934, 0.0124772, 0.00612734, 0.00548657, 0.00284432, 0.0034071, 0.00571926, 0.00959551, 0.0438558])\n",
    "print(list(np.round(mass_exp - (mass - mass_RC), 3)))\n",
    "print(list(np.round(np.sqrt(err**2 + 0.009**2), 3)))"
   ]
  },
  {
   "cell_type": "markdown",
   "metadata": {},
   "source": []
  }
 ],
 "metadata": {
  "kernelspec": {
   "display_name": "Python 3",
   "language": "python",
   "name": "python3"
  },
  "language_info": {
   "codemirror_mode": {
    "name": "ipython",
    "version": 3
   },
   "file_extension": ".py",
   "mimetype": "text/x-python",
   "name": "python",
   "nbconvert_exporter": "python",
   "pygments_lexer": "ipython3",
   "version": "3.11.2"
  },
  "orig_nbformat": 4
 },
 "nbformat": 4,
 "nbformat_minor": 2
}
