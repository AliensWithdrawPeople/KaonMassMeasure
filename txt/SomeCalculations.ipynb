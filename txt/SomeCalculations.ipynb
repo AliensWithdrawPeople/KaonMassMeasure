{
 "cells": [
  {
   "cell_type": "code",
   "execution_count": 3,
   "metadata": {},
   "outputs": [],
   "source": [
    "import numpy as np\n"
   ]
  },
  {
   "cell_type": "code",
   "execution_count": 7,
   "metadata": {},
   "outputs": [
    {
     "name": "stdout",
     "output_type": "stream",
     "text": [
      "[497.573, 497.551, 497.535, 497.556, 497.534, 497.57, 497.588, 497.571, 497.601]\n"
     ]
    }
   ],
   "source": [
    "deltaM_RC = np.array(\n",
    "    [0.1, 0.099, 0.077, 0.069, 0.086, 0.109, 0.185, 0.325, 1.453])\n",
    "deltaM_RCalt = np.array(\n",
    "    [0.132, 0.086, 0.076, 0.062, 0.103, 0.106, 0.178, 0.325, 1.453])\n",
    "Mass_FullRecExp = np.array([497.673,   497.650,    497.612,    497.625,\n",
    "                           497.620,    497.679,    497.773,    497.896,    499.054])\n",
    "# Mass_corrected_Exp\n",
    "print(list(np.round(Mass_FullRecExp - deltaM_RC, 3)))"
   ]
  }
 ],
 "metadata": {
  "kernelspec": {
   "display_name": "base",
   "language": "python",
   "name": "python3"
  },
  "language_info": {
   "codemirror_mode": {
    "name": "ipython",
    "version": 3
   },
   "file_extension": ".py",
   "mimetype": "text/x-python",
   "name": "python",
   "nbconvert_exporter": "python",
   "pygments_lexer": "ipython3",
   "version": "3.9.12"
  },
  "orig_nbformat": 4
 },
 "nbformat": 4,
 "nbformat_minor": 2
}
