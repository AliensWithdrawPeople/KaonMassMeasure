{
 "cells": [
  {
   "cell_type": "code",
   "execution_count": 2,
   "metadata": {},
   "outputs": [],
   "source": [
    "import numpy as np\n"
   ]
  },
  {
   "cell_type": "code",
   "execution_count": 2,
   "metadata": {},
   "outputs": [
    {
     "name": "stdout",
     "output_type": "stream",
     "text": [
      "Main RC (M_NC_mc - M_RCNC_mc): [497.573, 497.551, 497.535, 497.556, 497.54, 497.575, 497.582, 497.571, 497.601]\n",
      "Main RC (M_NC_mc - 497.614): [497.541, 497.564, 497.536, 497.563, 497.549, 497.578, 497.589, 497.571, 497.601]\n"
     ]
    }
   ],
   "source": [
    "M_NC_mc = np.array([497.746,   497.700,     497.690,   497.676,    497.685,    497.720,    497.792,    497.939,    499.067])\n",
    "M_RCNC_mc = np.array([497.646,   497.601,    497.613,    497.607,    497.605,    497.611,    497.607,    497.614,    497.614])\n",
    "\n",
    "deltaM_RC = np.subtract(M_NC_mc, M_RCNC_mc)\n",
    "deltaM_RCalt = np.subtract(M_NC_mc, 497.614)\n",
    "Mass_FullRecExp = np.array([497.673,   497.650,    497.612,    497.625,\n",
    "                           497.620,    497.684,    497.767,    497.896,    499.054])\n",
    "# Mass_corrected_Exp\n",
    "print(\"Main RC (M_NC_mc - M_RCNC_mc):\", list(np.round(Mass_FullRecExp - deltaM_RC, 3))) # type: ignore\n",
    "print(\"Main RC (M_NC_mc - 497.614):\", list(np.round(Mass_FullRecExp - deltaM_RCalt, 3))) # type: ignore"
   ]
  },
  {
   "cell_type": "code",
   "execution_count": 4,
   "metadata": {},
   "outputs": [
    {
     "name": "stdout",
     "output_type": "stream",
     "text": [
      "P_avg = [106.339, 119.779, 121.882, 123.952, 125.989, 127.996, 129.974, 131.924, 143.105]\n"
     ]
    }
   ],
   "source": [
    "E = np.array([505, 508, 508.5, 508.5, 508.5, 509, 509.5, 509.5,\n",
    "             509.5, 510, 510, 510, 510.5, 510.5, 511, 511, 514])\n",
    "M_Kch = 493.677\n",
    "P_Avg = np.round(np.sqrt(E * E - M_Kch * M_Kch), 3)\n",
    "print(\"P_avg =\", list(P_Avg))"
   ]
  },
  {
   "cell_type": "code",
   "execution_count": 3,
   "metadata": {},
   "outputs": [
    {
     "name": "stdout",
     "output_type": "stream",
     "text": [
      "Data/MC =  [1.02, 1.03, 1.04, 1.04, 1.04, 1.04, 1.02, 1.02, 1.03, 1.03, 1.03, 1.03, 1.06, 1.06, 1.07, 1.07, 1.08]\n",
      "Data/MC error =  [0.008, 0.002, 0.009, 0.008, 0.017, 0.004, 0.003, 0.01, 0.003, 0.004, 0.005, 0.004, 0.005, 0.003, 0.009, 0.004, 0.005]\n",
      "mean_delta/MC =  [1.0, 1.02, 1.04, 1.04, 1.02, 1.03, 1.06, 1.07, 1.08]\n",
      "mean_delta/MC error =  [0.008, 0.003, 0.003, 0.003, 0.002, 0.002, 0.003, 0.004, 0.006]\n",
      "Average Data/MC =  1.042404773393229\n"
     ]
    }
   ],
   "source": [
    "energy_shift = np.array([5.567, 4.228, 4.084, 4.06, 4.086, 3.907, 3.754, 3.746, 3.778, 3.722, 3.711, 3.729, 3.684, 3.681, 3.559, 3.561, 3.106])\n",
    "energy_shift_err = np.array([0.031, 0.005, 0.025, 0.021, 0.048,  0.010, 0.009, 0.026, 0.009, 0.009, 0.013, 0.009, 0.013, 0.008, 0.022, 0.009, 0.011])\n",
    "energy_shift_mc = np.array([5.462, 4.122, 3.913, 3.913, 3.913, 3.757, 3.670, 3.670, 3.670, 3.605, 3.605, 3.605, 3.484, 3.484, 3.314, 3.314, 2.879])\n",
    "\n",
    "mean_delta =  np.array([5.477, 4.224, 4.067, 3.914, 3.757, 3.717, 3.684, 3.562, 3.104])\n",
    "mean_delta_err =  np.array([0.03, 0.009, 0.008, 0.009, 0.004, 0.005, 0.007, 0.009, 0.012])\n",
    "mean_delta_mc = np.array([5.462, 4.122, 3.913, 3.757, 3.67, 3.605, 3.484, 3.314, 2.879])\n",
    "\n",
    "print(\"Data/MC = \", list(np.round(energy_shift/energy_shift_mc, 2)))\n",
    "print(\"Data/MC error = \", list(np.round(1.41 * energy_shift_err/energy_shift_mc, 3)))\n",
    "\n",
    "print(\"mean_delta/MC = \", list(np.round(mean_delta/mean_delta_mc, 2)))\n",
    "print(\"mean_delta/MC error = \", list(np.round(1.41 * mean_delta_err/mean_delta_mc, 3)))\n",
    "\n",
    "print(\"Average Data/MC = \", np.average(energy_shift/energy_shift_mc))"
   ]
  },
  {
   "cell_type": "code",
   "execution_count": 6,
   "metadata": {},
   "outputs": [
    {
     "name": "stdout",
     "output_type": "stream",
     "text": [
      "mean_delta =  np.array([5.477, 4.224, 4.067, 3.914, 3.757, 3.717, 3.684, 3.562, 3.104])\n",
      "mean_delta_err =  np.array([0.03, 0.009, 0.008, 0.009, 0.004, 0.005, 0.007, 0.009, 0.012])\n",
      "[5.462, 4.122, 3.913, 3.757, 3.67, 3.605, 3.484, 3.314, 2.879]\n"
     ]
    }
   ],
   "source": [
    "compton_mean = np.array([504.8, 507.862, 508.404, 508.957, 509.528, 509.956, 510.458, 511.035, 513.864])\n",
    "compton_mean_err = np.array([0.007, 0.007, 0.008, 0.009, 0.004, 0.005, 0.007, 0.009, 0.009])\n",
    "mean_Kch_energy = np.array([499.323, 503.638, 504.337, 505.043, 505.771, 506.239, 506.774, 507.473, 510.76])\n",
    "mean_Kch_energy_err = np.array([0.0296486, 0.00487724, 0.00223558, 0.00201327, 0.00101297, 0.00119253, 0.00184702, 0.00291495, 0.00736278])\n",
    "\n",
    "print(f\"mean_delta =  np.array({list(np.round(compton_mean - mean_Kch_energy, 3))})\")\n",
    "print(f\"mean_delta_err =  np.array({list(np.round(np.sqrt(compton_mean_err**2 + mean_Kch_energy_err**2), 3))})\")"
   ]
  }
 ],
 "metadata": {
  "kernelspec": {
   "display_name": "base",
   "language": "python",
   "name": "python3"
  },
  "language_info": {
   "codemirror_mode": {
    "name": "ipython",
    "version": 3
   },
   "file_extension": ".py",
   "mimetype": "text/x-python",
   "name": "python",
   "nbconvert_exporter": "python",
   "pygments_lexer": "ipython3",
   "version": "3.9.12"
  },
  "orig_nbformat": 4
 },
 "nbformat": 4,
 "nbformat_minor": 2
}
