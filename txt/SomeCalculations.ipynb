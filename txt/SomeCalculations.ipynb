{
 "cells": [
  {
   "cell_type": "code",
   "execution_count": 2,
   "metadata": {},
   "outputs": [],
   "source": [
    "import numpy as np\n"
   ]
  },
  {
   "attachments": {},
   "cell_type": "markdown",
   "metadata": {},
   "source": [
    "ISR calculation"
   ]
  },
  {
   "cell_type": "code",
   "execution_count": 2,
   "metadata": {},
   "outputs": [
    {
     "name": "stdout",
     "output_type": "stream",
     "text": [
      "M_NC_mc - M_RCNC_mc: [0.1, 0.099, 0.077, 0.069, 0.08, 0.109, 0.185, 0.325, 1.453]\n",
      "M_NC_mc - 497.614: [0.132, 0.086, 0.076, 0.062, 0.071, 0.106, 0.178, 0.325, 1.453]\n",
      "Main RC (M_NC_mc - M_RCNC_mc): [497.573, 497.551, 497.535, 497.556, 497.54, 497.575, 497.582, 497.571, 497.601]\n",
      "Main RC (M_NC_mc - 497.614): [497.541, 497.564, 497.536, 497.563, 497.549, 497.578, 497.589, 497.571, 497.601]\n",
      "Mass_err: [0.036, 0.014, 0.011, 0.008, 0.007, 0.01, 0.013, 0.014, 0.029]\n"
     ]
    }
   ],
   "source": [
    "M_NC_mc = np.array([497.746,   497.700,     497.690,   497.676,    497.685,    497.720,    497.792,    497.939,    499.067])\n",
    "M_RCNC_mc = np.array([497.646,   497.601,    497.613,    497.607,    497.605,    497.611,    497.607,    497.614,    497.614])\n",
    "\n",
    "deltaM_RC = np.subtract(M_NC_mc, M_RCNC_mc)\n",
    "deltaM_RCalt = np.subtract(M_NC_mc, 497.614)\n",
    "print(\"M_NC_mc - M_RCNC_mc:\", list(np.round(deltaM_RC, 3)))\n",
    "print(\"M_NC_mc - 497.614:\", list(np.round(deltaM_RCalt, 3)))\n",
    "Mass_FullRecExp = np.array([497.673,   497.650,    497.612,    497.625,\n",
    "                           497.620,    497.684,    497.767,    497.896,    499.054])\n",
    "\n",
    "M_stat_err = np.array([0.035, 0.01, 0.004, 0.004, 0.002, 0.002, 0.004, 0.007, 0.027])\n",
    "compton_err = np.array([0.007, 0.010, 0.010, 0.007, 0.007, 0.010, 0.012, 0.012, 0.010])\n",
    "\n",
    "# Mass_corrected_Exp\n",
    "print(\"Main RC (M_NC_mc - M_RCNC_mc):\", list(np.round(Mass_FullRecExp - deltaM_RC, 3))) # type: ignore\n",
    "print(\"Main RC (M_NC_mc - 497.614):\", list(np.round(Mass_FullRecExp - deltaM_RCalt, 3))) # type: ignore\n",
    "print(\"Mass_err:\", list(np.round(np.sqrt(M_stat_err**2 + compton_err**2), 3))) # type: ignore"
   ]
  },
  {
   "cell_type": "code",
   "execution_count": 4,
   "metadata": {},
   "outputs": [
    {
     "name": "stdout",
     "output_type": "stream",
     "text": [
      "P_avg = [106.339, 119.779, 121.882, 123.952, 125.989, 127.996, 129.974, 131.924, 143.105]\n"
     ]
    }
   ],
   "source": [
    "E = np.array([505, 508, 508.5, 508.5, 508.5, 509, 509.5, 509.5,\n",
    "             509.5, 510, 510, 510, 510.5, 510.5, 511, 511, 514])\n",
    "M_Kch = 493.677\n",
    "P_Avg = np.round(np.sqrt(E * E - M_Kch * M_Kch), 3)\n",
    "print(\"P_avg =\", list(P_Avg))"
   ]
  },
  {
   "attachments": {},
   "cell_type": "markdown",
   "metadata": {},
   "source": [
    "Energy shift (E_compton - Kch_Energy)"
   ]
  },
  {
   "cell_type": "code",
   "execution_count": 15,
   "metadata": {},
   "outputs": [
    {
     "name": "stdout",
     "output_type": "stream",
     "text": [
      "Data - MC =  [0.11, 0.11, 0.17, 0.15, 0.17, 0.15, 0.08, 0.08, 0.11, 0.12, 0.11, 0.12, 0.2, 0.2, 0.25, 0.25, 0.23]\n",
      "Data - MC error =  [0.044, 0.007, 0.035, 0.03, 0.068, 0.014, 0.013, 0.037, 0.013, 0.013, 0.018, 0.013, 0.018, 0.011, 0.031, 0.013, 0.016]\n",
      "mean_delta - MC =  [0.02, 0.1, 0.15, 0.16, 0.09, 0.11, 0.2, 0.25, 0.23]\n",
      "mean_delta - MC error =  [0.042, 0.013, 0.011, 0.013, 0.006, 0.007, 0.01, 0.013, 0.017]\n",
      "Average Data - MC =  [0.02 0.03 0.04 0.04 0.04 0.04 0.02 0.02 0.03 0.03 0.03 0.03 0.06 0.06\n",
      " 0.07 0.07 0.08]\n",
      "Data - MC diff - fit_curve = [0.05, -0.0, 0.05, 0.03, 0.06, 0.02, -0.06, -0.06, -0.03, -0.03, -0.05, -0.03, 0.04, 0.03, 0.07, 0.07, -0.04]\n"
     ]
    }
   ],
   "source": [
    "energy_shift = np.array([5.567, 4.228, 4.084, 4.06, 4.086, 3.907, 3.754, 3.746, 3.778, 3.722, 3.711, 3.729, 3.684, 3.681, 3.559, 3.561, 3.106])\n",
    "energy_shift_err = np.array([0.031, 0.005, 0.025, 0.021, 0.048,  0.010, 0.009, 0.026, 0.009, 0.009, 0.013, 0.009, 0.013, 0.008, 0.022, 0.009, 0.011])\n",
    "energy_shift_mc = np.array([5.462, 4.122, 3.913, 3.913, 3.913, 3.757, 3.670, 3.670, 3.670, 3.605, 3.605, 3.605, 3.484, 3.484, 3.314, 3.314, 2.879])\n",
    "\n",
    "mean_delta =  np.array([5.477, 4.224, 4.067, 3.914, 3.757, 3.717, 3.684, 3.562, 3.104])\n",
    "mean_delta_err =  np.array([0.03, 0.009, 0.008, 0.009, 0.004, 0.005, 0.007, 0.009, 0.012])\n",
    "mean_delta_mc = np.array([5.462, 4.122, 3.913, 3.757, 3.67, 3.605, 3.484, 3.314, 2.879])\n",
    "\n",
    "moms = [106.339, 119.779, 121.882, 121.882, 121.882, 123.952, 125.989, 125.989, 125.989, 127.996, 127.996, 127.996, 129.974, 129.974, 131.924, 131.924, 143.10]\n",
    "fit_curve_vals = np.array([8.19e-5 * mom * mom - 0.01488 * mom + 0.714251 for mom in moms])\n",
    "\n",
    "round_up_to = 2\n",
    "print(\"Data - MC = \", list(np.round(energy_shift - energy_shift_mc, round_up_to)))\n",
    "print(\"Data - MC error = \", list(np.round(1.41 * energy_shift_err, round_up_to + 1)))\n",
    "\n",
    "print(\"mean_delta - MC = \", list(np.round(mean_delta - mean_delta_mc, round_up_to)))\n",
    "print(\"mean_delta - MC error = \", list(np.round(1.41 * mean_delta_err, round_up_to + 1)))\n",
    "\n",
    "print(\"Average Data - MC = \", np.round((energy_shift - energy_shift_mc) / energy_shift_mc, round_up_to))\n",
    "\n",
    "print(\"Data - MC diff - fit_curve =\", list(np.round(energy_shift - energy_shift_mc - fit_curve_vals, round_up_to)))"
   ]
  },
  {
   "cell_type": "code",
   "execution_count": 6,
   "metadata": {},
   "outputs": [
    {
     "name": "stdout",
     "output_type": "stream",
     "text": [
      "mean_delta =  np.array([5.477, 4.224, 4.067, 3.914, 3.757, 3.717, 3.684, 3.562, 3.104])\n",
      "mean_delta_err =  np.array([0.03, 0.009, 0.008, 0.009, 0.004, 0.005, 0.007, 0.009, 0.012])\n",
      "[5.462, 4.122, 3.913, 3.757, 3.67, 3.605, 3.484, 3.314, 2.879]\n"
     ]
    }
   ],
   "source": [
    "compton_mean = np.array([504.8, 507.862, 508.404, 508.957, 509.528, 509.956, 510.458, 511.035, 513.864])\n",
    "compton_mean_err = np.array([0.007, 0.007, 0.008, 0.009, 0.004, 0.005, 0.007, 0.009, 0.009])\n",
    "mean_Kch_energy = np.array([499.323, 503.638, 504.337, 505.043, 505.771, 506.239, 506.774, 507.473, 510.76])\n",
    "mean_Kch_energy_err = np.array([0.0296486, 0.00487724, 0.00223558, 0.00201327, 0.00101297, 0.00119253, 0.00184702, 0.00291495, 0.00736278])\n",
    "\n",
    "print(f\"mean_delta =  np.array({list(np.round(compton_mean - mean_Kch_energy, 3))})\")\n",
    "print(f\"mean_delta_err =  np.array({list(np.round(np.sqrt(compton_mean_err**2 + mean_Kch_energy_err**2), 3))})\")"
   ]
  },
  {
   "attachments": {},
   "cell_type": "markdown",
   "metadata": {},
   "source": [
    "MC Luminosity evaluation:"
   ]
  },
  {
   "cell_type": "code",
   "execution_count": 5,
   "metadata": {},
   "outputs": [
    {
     "name": "stdout",
     "output_type": "stream",
     "text": [
      "SigmaBorn = 1580.5446489880883\n",
      "L_MC = 56795.33898430198\n"
     ]
    }
   ],
   "source": [
    "from scipy.interpolate import make_interp_spline\n",
    "\n",
    "def SigmaBorn(s:float)->float:\n",
    "    mK: float = 497.614  \n",
    "    energies = [1004.066, 1010.466, 1012.955, 1015.068, 1016.105, 1017.155, 1017.156, 1018.046, 1019.118,  1019.214, 1019.421, 1019.902, \n",
    "                    1021.222, 1021.309, 1022.078,  1022.744, 1023.264,  1025.320, 1027.956, 1029.090, 1033.907, 1040.028,  1049.864,  1050.862,  1059.947]\n",
    "    cross_sections = [6.87, 42.16, 96.74, 219.53, 366.33, 628.15, 624.76, 996.62, 1413.65,  1433.05, 1434.84, 1341.91,  833.20, \n",
    "                            807.54, 582.93,  443.71, 377.77,  199.26, 115.93, 96.96, 50.12, 31.27,  16.93,  17.47,  12.09]\n",
    "    data = np.array([energies, cross_sections]).T \n",
    "    data2 = data[data[:,0].argsort()]\n",
    "    spline = make_interp_spline(data2[:, 0], data2[:, 1], k=2)\n",
    "    x = np.linspace(mK-10, max(energies), 10000)\n",
    "    y = spline(x)\n",
    "    y = np.where(x<=2*mK, 0, y)\n",
    "    return float(np.interp(s, (x**2), y))\n",
    "\n",
    "delta = np.array([0.992/0.73, 0.978/0.71, 0.983/0.7, 0.992/0.7, 1.024/0.73, 1.016/ 0.75, 0.994/0.83, 0.989/0.88, 0.992])\n",
    "energies = np.array([505, 508, 508.5, 509, 509.5, 510, 510.5, 511, 514])\n",
    "N = 1e6\n",
    "print(\"SigmaBorn =\", SigmaBorn(4 * energies[6]**2) / delta[6] * 0.299/0.1433)\n",
    "L = []\n",
    "for i in range(len(delta)):\n",
    "    L.append(N * delta[i] / SigmaBorn(4 * energies[i]**2))\n",
    "print(\"L_MC =\", sum(L))"
   ]
  },
  {
   "attachments": {},
   "cell_type": "markdown",
   "metadata": {},
   "source": [
    "deltaM^(RC) error estimation:"
   ]
  },
  {
   "cell_type": "code",
   "execution_count": 33,
   "metadata": {},
   "outputs": [
    {
     "name": "stdout",
     "output_type": "stream",
     "text": [
      "RC mean_approach =  [0.112, 0.081, 0.077, 0.068, 0.076, 0.108, 0.185, 0.324, 1.462]\n",
      "RC true_energy_approach =  [115.0, 82.0, 77.0, 68.0, 76.0, 111.0, 187.0, 325.0, 1477.0]\n",
      "RC true_mass_approach =  [121.0, 69.0, 70.0, 61.0, 70.0, 106.0, 178.0, 324.0, 1457.0]\n",
      "delta RC =  [-0.006, -0.001, 0.0, -0.002, -0.001, -0.007, -0.002, -0.002, -0.014]\n"
     ]
    }
   ],
   "source": [
    "M_mc =      np.array([497.735, 497.683, 497.684, 497.675, 497.684, 497.720, 497.792, 497.938, 499.071])\n",
    "M_RC_Mean = np.array([497.623, 497.602, 497.607, 497.607, 497.608, 497.612, 497.607, 497.614, 497.609])\n",
    "M_RC_True = np.array([497.620, 497.601, 497.607, 497.607, 497.608, 497.609, 497.605, 497.613, 497.594])\n",
    "RC = np.array([0.112, 0.081, 0.077, 0.068, 0.076, 0.108, 0.185, 0.324, 1.462])\n",
    "M = np.array([497.545, 497.566, 497.539, 497.547, 497.544, 497.571, 497.579, 497.566, 497.6])\n",
    "M2 = np.array([497.565, 497.564, 497.535, 497.545, 497.542, 497.575, 497.577, 497.563, 497.614])\n",
    "\n",
    "\n",
    "print(\"RC mean_approach = \", list(np.round(M_mc - M_RC_Mean, 4)))\n",
    "print(\"RC true_energy_approach = \", list(np.round(M_mc - M_RC_True, 4) * 1e3))\n",
    "print(\"RC true_mass_approach = \", list(np.round(M_mc - 497.614, 4) * 1e3))\n",
    "\n",
    "print(\"delta RC = \", list(np.round(M  - M2, 4)))"
   ]
  },
  {
   "attachments": {},
   "cell_type": "markdown",
   "metadata": {},
   "source": [
    "Systematic Error estimation:"
   ]
  },
  {
   "cell_type": "code",
   "execution_count": 4,
   "metadata": {},
   "outputs": [
    {
     "name": "stdout",
     "output_type": "stream",
     "text": [
      "5.612486080160912\n",
      "7.7781745930520225\n"
     ]
    }
   ],
   "source": [
    "deltaM_RC_err = 5 #keV/c^2\n",
    "deltaM_NC_err = 2 #keV/c^2\n",
    "\n",
    "deltaM_Cuts_err_Nhit = 3 #keV/c^2\n",
    "deltaM_Cuts_err_theta = 1 #keV/c^2\n",
    "deltaM_Cuts_err_MissingMass = 2 #keV/c^2\n",
    "deltaM_Cuts_err = 1.5 * np.sqrt(deltaM_Cuts_err_Nhit**2 + deltaM_Cuts_err_theta**2 + deltaM_Cuts_err_MissingMass**2)\n",
    "err = np.sqrt(deltaM_RC_err**2 + deltaM_NC_err**2 + deltaM_Cuts_err**2)\n",
    "\n",
    "print(\"Cuts systematic error =\", deltaM_Cuts_err)\n",
    "print(err)"
   ]
  },
  {
   "attachments": {},
   "cell_type": "markdown",
   "metadata": {},
   "source": [
    "MC KsKl with shifted up by 30 keV energy (aka WrongEnergy) Mass:"
   ]
  },
  {
   "cell_type": "code",
   "execution_count": null,
   "metadata": {},
   "outputs": [],
   "source": [
    "E = [508.5, 509.5, 510, 511]\n",
    "M_RCNC = [497.575, 497.588, 597.588, 497.593]\n",
    "M_RCNC_err = [0.002, 0.003, 0.003, 0.003]"
   ]
  }
 ],
 "metadata": {
  "kernelspec": {
   "display_name": "base",
   "language": "python",
   "name": "python3"
  },
  "language_info": {
   "codemirror_mode": {
    "name": "ipython",
    "version": 3
   },
   "file_extension": ".py",
   "mimetype": "text/x-python",
   "name": "python",
   "nbconvert_exporter": "python",
   "pygments_lexer": "ipython3",
   "version": "3.9.12"
  },
  "orig_nbformat": 4
 },
 "nbformat": 4,
 "nbformat_minor": 2
}
