{
 "cells": [
  {
   "cell_type": "markdown",
   "metadata": {},
   "source": [
    "## ***Aug 3 2023***"
   ]
  },
  {
   "cell_type": "markdown",
   "metadata": {},
   "source": [
    "EXP (No RC): |kstheta - $\\pi$| < 0.3 and 0.3 < |kstheta - $\\pi$| < 0.7"
   ]
  },
  {
   "cell_type": "markdown",
   "metadata": {},
   "source": [
    "<div>\n",
    "<img src=\"PictureDump/Aug2023/ExpMass_Cowboy_Sailor_KsThetaLess0.3.png\" alt=\"Drawing\" style=\"width: 800px;\"/>\n",
    "<img src=\"PictureDump/Aug2023/ExpMass_Cowboy_Sailor_KsThetaBigger0.3.png\" alt=\"Drawing\" style=\"width: 800px;\"/>\n",
    "\n",
    "</div>"
   ]
  },
  {
   "cell_type": "markdown",
   "metadata": {},
   "source": [
    "<div>\n",
    "<img src=\"PictureDump/Aug2023/M_vs_kstheta_exp509.png\" alt=\"Drawing\" style=\"width: 1000px;\"/>\n",
    "</div>"
   ]
  },
  {
   "cell_type": "markdown",
   "metadata": {},
   "source": [
    "## ***Aug 4***"
   ]
  },
  {
   "cell_type": "markdown",
   "metadata": {},
   "source": [
    "<div>\n",
    "<img src=\"PictureDump/Aug2023/dpsi_recgenDiff_noCorrection.png\" style=\"width: 850px;\"/>\n",
    "<img src=\"PictureDump/Aug2023/dpsi_recgenDiff_withCorrection.png\" style=\"width: 850px;\"/>\n",
    "</div>"
   ]
  },
  {
   "cell_type": "markdown",
   "metadata": {},
   "source": [
    "## ***Aug 7***"
   ]
  },
  {
   "cell_type": "code",
   "execution_count": 1,
   "metadata": {},
   "outputs": [
    {
     "name": "stdout",
     "output_type": "stream",
     "text": [
      "deltaM_RC = [0.123, 0.098, 0.094, 0.084, 0.093, 0.184, 0.199, 0.339, 1.494]\n",
      "M_exp_RCNC = [497.592, 497.589, 497.57, 497.567, 497.576, 497.54, 497.602, 497.58, 497.528]\n",
      "M_exp_err = [0.0451, 0.017, 0.011, 0.011, 0.0095, 0.0096, 0.0107, 0.0133, 0.045]\n",
      "Delta E = 0.1345 +/- -1 MeV\n",
      "M_fit = 497.5511 +/- 0.0066 MeV\n",
      "M_new = [497.5934, 497.5898, 497.5718, 497.5705, 497.5501, 497.5293, 497.5826, 497.5385, 497.4584]\n",
      "RC_shifted = [0.1216, 0.0972, 0.0922, 0.0805, 0.1189, 0.1947, 0.2184, 0.3805, 1.5636]\n"
     ]
    }
   ],
   "source": [
    "%reload_ext autoreload\n",
    "\n",
    "import numpy as np\n",
    "\n",
    "import sys\n",
    "sys.path.append('C:\\\\work\\\\Science\\\\BINP\\\\Kaon Mass Measure')\n",
    "from AuxScripts.MassWithEnergyShift import GetMass\n",
    "\n",
    "E = np.array([504.8, 507.862, 508.404, 508.957, 509.528, 509.956, 510.458, 511.035, 513.864])\n",
    "\n",
    "M = np.array([497.737, 497.713, 497.711, 497.701, 497.712, 497.794, 497.811, 497.956, 499.11])\n",
    "# M = np.array([497.744, 497.715, 497.714, 497.702, 497.703, 497.793, 497.813, 497.953, 499.1])\n",
    "M_RC = np.array([497.627, 497.628, 497.63, 497.63, 497.632, 497.623, 497.625, 497.63, 497.629])\n",
    "\n",
    "RC = M - M_RC + 0.013\n",
    "# RC = M - 497.614\n",
    "\n",
    "M_exp = np.array([497.715, 497.687, 497.664, 497.651,  497.669, 497.724, 497.801, 497.919, 499.022])\n",
    "M_exp_err = np.array([0.0442049, 0.0144264, 0.00628908, 0.0063666, 0.00292468, 0.00340951, 0.00571962, 0.00984417, 0.0440919])\n",
    "\n",
    "print(\"deltaM_RC =\", list(np.round(RC, 4)))\n",
    "print(\"M_exp_RCNC =\", list(np.round(M_exp - RC, 4)))\n",
    "print(\"M_exp_err =\", list(np.round(np.sqrt(M_exp_err**2 + 0.009**2), 4)))\n",
    "\n",
    "M_RCNC = M_exp - RC\n",
    "\n",
    "delta_E = (1019.459 - 1019.190) / 2 \n",
    "GetMass(M_RCNC, M_exp_err, RC, E, delta_E)"
   ]
  },
  {
   "cell_type": "markdown",
   "metadata": {},
   "source": [
    "With and without $\\theta / \\phi$-resolution correction\n",
    "<div>\n",
    "<img src=\"PictureDump/Aug2023/dpsi_RecGenDiff_withResolutionCorrection_pol2.png\" style=\"width: 850px;\"/>\n",
    "<img src=\"PictureDump/Aug2023/dpsi_RecGenDiff_noResolutionCorrection_pol2.png\" style=\"width: 850px;\"/>\n",
    "</div>"
   ]
  },
  {
   "cell_type": "markdown",
   "metadata": {},
   "source": [
    "<div>\n",
    "<img src=\"PictureDump/Aug2023/M_vs_kstheta_MC509_Corrected.png\" style=\"width: 850px;\"/>\n",
    "<img src=\"PictureDump/Aug2023/M_vs_kstheta_MC509_notCorrected.png\" style=\"width: 850px;\"/>\n",
    "</div>"
   ]
  },
  {
   "cell_type": "markdown",
   "metadata": {},
   "source": [
    "<div>\n",
    "<img src=\"PictureDump/Aug2023/M_vs_kstheta_EXP509_Corrected.png\" style=\"width: 1000px;\"/>\n",
    "</div>"
   ]
  },
  {
   "cell_type": "markdown",
   "metadata": {},
   "source": [
    "<div>\n",
    "<img src=\"PictureDump/Aug2023/M_vs_kstheta_EXP509_Corrected_Cowboy.png\" style=\"width: 850px;\"/>\n",
    "<img src=\"PictureDump/Aug2023/M_vs_kstheta_EXP509_Corrected_Sailor.png\" style=\"width: 850px;\"/>\n",
    "</div>"
   ]
  },
  {
   "cell_type": "markdown",
   "metadata": {},
   "source": [
    "Point E = 509.5 MeV is not corrected (no dpsi += 2.92e-4):\n",
    "<div>\n",
    "<img src=\"PictureDump/Aug2023/M_vs_Ebeam_AfterPsiCorrection.png\" style=\"width: 1000px;\"/>\n",
    "</div>"
   ]
  },
  {
   "cell_type": "markdown",
   "metadata": {},
   "source": [
    "<div>\n",
    "<img src=\"PictureDump/Aug2023/M_vs_Ebeam_AfterPsiCorrection_ShiftedRC.png\" style=\"width: 800px;\"/>\n",
    "<img src=\"PictureDump/Aug2023/M_vs_Ebeam_AfterPsiCorrection_NotShiftedRC.png\" style=\"width: 800px;\"/>\n",
    "</div>"
   ]
  },
  {
   "cell_type": "markdown",
   "metadata": {},
   "source": [
    "## ***Aug 8***"
   ]
  },
  {
   "cell_type": "code",
   "execution_count": 4,
   "metadata": {},
   "outputs": [
    {
     "name": "stdout",
     "output_type": "stream",
     "text": [
      "deltaM_RC = [0.122, 0.098, 0.093, 0.083, 0.093, 0.183, 0.198, 0.337, 1.494]\n",
      "M_exp_RCNC = [497.574, 497.571, 497.553, 497.553, 497.558, 497.523, 497.588, 497.565, 497.525]\n",
      "M_exp_err = [0.0451, 0.017, 0.011, 0.011, 0.0095, 0.0096, 0.0107, 0.0133, 0.045]\n",
      "Delta E = 0.0 +/- -1 MeV\n",
      "M_fit = 497.5506 +/- 0.0071 MeV\n",
      "M_new = [497.574, 497.571, 497.553, 497.553, 497.558, 497.523, 497.588, 497.565, 497.525]\n",
      "RC_shifted = [0.122, 0.098, 0.093, 0.083, 0.093, 0.183, 0.198, 0.337, 1.494]\n"
     ]
    }
   ],
   "source": [
    "%reload_ext autoreload\n",
    "\n",
    "import numpy as np\n",
    "\n",
    "import sys\n",
    "sys.path.append('C:\\\\work\\\\Science\\\\BINP\\\\Kaon Mass Measure')\n",
    "from AuxScripts.MassWithEnergyShift import GetMass\n",
    "\n",
    "E = np.array([504.8, 507.862, 508.404, 508.957, 509.528, 509.956, 510.458, 511.035, 513.864])\n",
    "\n",
    "M = np.array([497.735, 497.714, 497.713, 497.701, 497.712, 497.793, 497.811, 497.954, 499.107])\n",
    "# M = np.array([497.744, 497.715, 497.714, 497.702, 497.703, 497.793, 497.813, 497.953, 499.1])\n",
    "M_RC = np.array([497.625, 497.628, 497.632, 497.63, 497.631, 497.622, 497.625, 497.629, 497.625])\n",
    "\n",
    "RC = M - M_RC + 0.012\n",
    "# RC = M - 497.614\n",
    "\n",
    "M_exp = np.array([497.696, 497.669, 497.646, 497.636, 497.651, 497.706, 497.786, 497.902, 499.019])\n",
    "M_exp_err = np.array([0.0442091, 0.0144237, 0.00628815, 0.00637921, 0.00292419, 0.0034069, 0.00571916, 0.00980962, 0.0440892])\n",
    "\n",
    "print(\"deltaM_RC =\", list(np.round(RC, 4)))\n",
    "print(\"M_exp_RCNC =\", list(np.round(M_exp - RC, 4)))\n",
    "print(\"M_exp_err =\", list(np.round(np.sqrt(M_exp_err**2 + 0.009**2), 4)))\n",
    "\n",
    "M_RCNC = M_exp - RC\n",
    "\n",
    "delta_E = (1019.459 - 1019.190) / 2 * 0\n",
    "GetMass(M_RCNC, M_exp_err, RC, E, delta_E)"
   ]
  }
 ],
 "metadata": {
  "kernelspec": {
   "display_name": "Python 3",
   "language": "python",
   "name": "python3"
  },
  "language_info": {
   "codemirror_mode": {
    "name": "ipython",
    "version": 3
   },
   "file_extension": ".py",
   "mimetype": "text/x-python",
   "name": "python",
   "nbconvert_exporter": "python",
   "pygments_lexer": "ipython3",
   "version": "3.11.2"
  },
  "orig_nbformat": 4
 },
 "nbformat": 4,
 "nbformat_minor": 2
}
