{
 "cells": [
  {
   "cell_type": "markdown",
   "metadata": {},
   "source": [
    "## ***Aug 3 2023***"
   ]
  },
  {
   "cell_type": "markdown",
   "metadata": {},
   "source": [
    "EXP (No RC): |kstheta - $\\pi$| < 0.3 and 0.3 < |kstheta - $\\pi$| < 0.7"
   ]
  },
  {
   "cell_type": "markdown",
   "metadata": {},
   "source": [
    "<div>\n",
    "<img src=\"PictureDump/Aug2023/ExpMass_Cowboy_Sailor_KsThetaLess0.3.png\" alt=\"Drawing\" style=\"width: 800px;\"/>\n",
    "<img src=\"PictureDump/Aug2023/ExpMass_Cowboy_Sailor_KsThetaBigger0.3.png\" alt=\"Drawing\" style=\"width: 800px;\"/>\n",
    "\n",
    "</div>"
   ]
  },
  {
   "cell_type": "markdown",
   "metadata": {},
   "source": [
    "<div>\n",
    "<img src=\"PictureDump/Aug2023/M_vs_kstheta_exp509.png\" alt=\"Drawing\" style=\"width: 1000px;\"/>\n",
    "</div>"
   ]
  }
 ],
 "metadata": {
  "kernelspec": {
   "display_name": "Python 3",
   "language": "python",
   "name": "python3"
  },
  "language_info": {
   "codemirror_mode": {
    "name": "ipython",
    "version": 3
   },
   "file_extension": ".py",
   "mimetype": "text/x-python",
   "name": "python",
   "nbconvert_exporter": "python",
   "pygments_lexer": "ipython3",
   "version": "3.11.2"
  },
  "orig_nbformat": 4
 },
 "nbformat": 4,
 "nbformat_minor": 2
}
